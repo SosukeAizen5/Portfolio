{
 "cells": [
  {
   "cell_type": "code",
   "execution_count": null,
   "id": "4a94a337",
   "metadata": {},
   "outputs": [],
   "source": [
    "# Data Wrangling Workshop Chapter 1 and 2 Activities Program\n",
    "# DSC 540\n",
    "# Weeks 1 and 2\n",
    "# Data Preparation Assignment Weeks 1 and 2\n",
    "# David Berberena\n",
    "# 3/24/2024"
   ]
  },
  {
   "cell_type": "markdown",
   "id": "9d56ba1b",
   "metadata": {},
   "source": [
    "# Program Start"
   ]
  },
  {
   "cell_type": "code",
   "execution_count": 2,
   "id": "ab797a75",
   "metadata": {},
   "outputs": [
    {
     "name": "stdout",
     "output_type": "stream",
     "text": [
      "a\n",
      "k\n",
      "i\n",
      "r\n",
      "a\n",
      "t\n",
      "o\n",
      "r\n",
      "i\n",
      "y\n",
      "a\n",
      "m\n",
      "a\n",
      "['a', 'a', 'a', 'a', 'i', 'i', 'k', 'm', 'o', 'r', 'r', 't', 'y', 2, 7, 6, 8, 2, 9, 6, 5, 4, 3, 8, 3, 6]\n"
     ]
    }
   ],
   "source": [
    "# Create a Jupyter notebook where you create a list, iterate over the list and sort your results, generate random numbers, \n",
    "# add to the list, and then print your results.\n",
    "\n",
    "# I am importing the random library to help with the generation of random numbers\n",
    "\n",
    "import random\n",
    "\n",
    "# Creation of random list\n",
    "\n",
    "list = ['a', 'k', 'i', 'r', 'a', 't', 'o', 'r', 'i', 'y', 'a', 'm', 'a']\n",
    "\n",
    "# Iterating over the list (this can be accomplished with a for loop)\n",
    "\n",
    "for letter in list:\n",
    "    print(letter)\n",
    "    \n",
    "# Sorting the list can be done with the sorted() function\n",
    "\n",
    "sorted_list = sorted(list)\n",
    "\n",
    "# To generate random numbers using the randint() function and add them to the sorted list, the append() function will be \n",
    "# used in a for loop that adds each random number generated to the end of the list\n",
    "\n",
    "for _ in range(13):\n",
    "    random_num = random.randint(1, 10)\n",
    "    sorted_list.append(random_num)\n",
    "    \n",
    "print(sorted_list)"
   ]
  },
  {
   "cell_type": "code",
   "execution_count": 3,
   "id": "d24bf15a",
   "metadata": {},
   "outputs": [],
   "source": [
    "# Create a line chart with Matplotlib and the following data file: world-population.xlsm\n",
    "\n",
    "# Importing both Matplotlib and Pandas is needed (Matplotlib for the line chart creation of the data within the file and\n",
    "# Pandas in order to read the file and store the data into a Pandas data frame)\n",
    "\n",
    "import matplotlib.pyplot as plt\n",
    "import pandas as pd\n",
    "\n",
    "# To read the file into Python\n",
    "\n",
    "world_pop_data_file = 'world-population.xlsm'\n",
    "world_pop = pd.read_excel(world_pop_data_file)"
   ]
  },
  {
   "cell_type": "markdown",
   "id": "489b819f",
   "metadata": {},
   "source": [
    "## Activity 1.01"
   ]
  },
  {
   "cell_type": "code",
   "execution_count": 4,
   "id": "50f61454",
   "metadata": {},
   "outputs": [
    {
     "name": "stdout",
     "output_type": "stream",
     "text": [
      "[366, 495, 539, 212, 221, 685, 382, 139, 786, 974, 855, 208, 297, 230, 793, 799, 2, 219, 749, 771, 325, 390, 131, 694, 650, 676, 499, 280, 674, 916, 449, 312, 780, 761, 974, 743, 979, 996, 569, 357, 922, 670, 723, 196, 865, 579, 452, 926, 194, 393, 724, 67, 980, 7, 331, 146, 41, 883, 749, 393, 778, 21, 105, 310, 400, 905, 702, 870, 899, 719, 85, 938, 770, 809, 402, 805, 299, 71, 287, 154, 574, 21, 841, 506, 501, 676, 885, 239, 737, 823, 994, 475, 517, 855, 596, 46, 929, 49, 818, 327]\n"
     ]
    }
   ],
   "source": [
    "# 1. Create a list of 100 random numbers\n",
    "\n",
    "# I will use a for loop and the randint() function once again to create the list with numbers ranging from 0 to 1000\n",
    "\n",
    "random_number_list = [random.randint(0, 1000) for x in range(100)]\n",
    "\n",
    "# Printing the list for visibiity of randomness\n",
    "\n",
    "print(random_number_list)"
   ]
  },
  {
   "cell_type": "code",
   "execution_count": 5,
   "id": "2166d7d9",
   "metadata": {},
   "outputs": [
    {
     "name": "stdout",
     "output_type": "stream",
     "text": [
      "[366, 495, 786, 855, 297, 219, 771, 390, 312, 780, 996, 357, 723, 579, 393, 393, 21, 105, 702, 870, 402, 21, 501, 885, 855, 327]\n"
     ]
    }
   ],
   "source": [
    "# 2. Create a new list from this random list, with numbers that are divisible by 3.\n",
    "\n",
    "# To do this, I am employing another for loop that iterates over every value and checks to see if it is divisible by 3 with\n",
    "# the inclusion of the if conditional statement. If the value is indeed divisible by 3, the loop pulls those values into a \n",
    "# new list which has been stored as a variable.\n",
    "\n",
    "divisible_by_three_values = [a for a in random_number_list if a % 3 == 0]\n",
    "print(divisible_by_three_values)"
   ]
  },
  {
   "cell_type": "code",
   "execution_count": 6,
   "id": "add52535",
   "metadata": {},
   "outputs": [
    {
     "name": "stdout",
     "output_type": "stream",
     "text": [
      "Length of random number list: 100\n",
      "Length of divisible by three number list: 26\n",
      "Difference in list lengths: 74\n"
     ]
    }
   ],
   "source": [
    "# 3. Calculate the length of these two lists and store the difference in a new variable.\n",
    "\n",
    "# The len() function will be used on both lists and a variable will store the answer to the difference between the lengths\n",
    "\n",
    "print('Length of random number list:', len(random_number_list))\n",
    "print('Length of divisible by three number list:', len(divisible_by_three_values))\n",
    "list_len_diff = len(random_number_list) - len(divisible_by_three_values)\n",
    "print('Difference in list lengths:', list_len_diff)"
   ]
  },
  {
   "cell_type": "code",
   "execution_count": 15,
   "id": "1ed6c4b1",
   "metadata": {},
   "outputs": [
    {
     "name": "stdout",
     "output_type": "stream",
     "text": [
      "[64, 63, 70, 64, 67, 64, 63, 67, 69, 66]\n"
     ]
    }
   ],
   "source": [
    "# 4. Using a loop, perform steps 1, 2, and 3, and find the difference variable ten times.\n",
    "\n",
    "# To perform this task, an empty list needs to be made for the difference values to be added into once generated. Then a for\n",
    "# loop that specifies 10 as the number of times the loop needs to run is made with the previous code to generate each \n",
    "# difference in length. When each difference is found, it is then appended to the empty list as a new element in the list.\n",
    "\n",
    "list_of_diffs = []\n",
    "for i in range(10):\n",
    "    random_number_list = [random.randint(0, 1000) for x in range(100)]\n",
    "    divisible_by_three_values = [a for a in random_number_list if a % 3 == 0]\n",
    "    \n",
    "    list_len_diff = len(random_number_list) - len(divisible_by_three_values)\n",
    "    list_of_diffs.append(list_len_diff)\n",
    "print(list_of_diffs)"
   ]
  },
  {
   "cell_type": "code",
   "execution_count": 16,
   "id": "c24b145f",
   "metadata": {},
   "outputs": [
    {
     "data": {
      "text/plain": [
       "65.7"
      ]
     },
     "execution_count": 16,
     "metadata": {},
     "output_type": "execute_result"
    }
   ],
   "source": [
    "# 5. Find the arithmetic mean of these 10 difference values.\n",
    "\n",
    "# To make this as concise as possible, I will be importing the NumPy library to use its mean() function\n",
    "\n",
    "import numpy as np\n",
    "\n",
    "np.mean(list_of_diffs)"
   ]
  },
  {
   "cell_type": "markdown",
   "id": "3fede34d",
   "metadata": {},
   "source": [
    "## Activity 1.02"
   ]
  },
  {
   "cell_type": "code",
   "execution_count": 33,
   "id": "27f19546",
   "metadata": {
    "scrolled": true
   },
   "outputs": [
    {
     "name": "stdout",
     "output_type": "stream",
     "text": [
      "It is a truth universally acknowledged, that a single man in possession of a good fortune, \n",
      "must be in want of a wife. \n",
      "\n",
      "However little known the feelings or views of such a man may be on his first entering a neighbourhood, \n",
      "this truth is so well fixed in the minds of the surrounding families, \n",
      "that he is considered the rightful property of some one or other of their daughters. \n",
      "\n",
      "\"My dear Mr. Bennet,\" said his lady to him one day, \"have you heard that Netherfield Park is let at last?\" \n",
      "\n",
      "Mr. Bennet replied that he had not. \n",
      "\n",
      "\"But it is,\" returned she; \"for Mrs. Long has just been here, and she told me all about it.\" \n",
      "\n",
      "Mr. Bennet made no answer. \n",
      "\n",
      "\"Do you not want to know who has taken it?\" cried his wife impatiently. \n",
      "\n",
      "\"You want to tell me, and I have no objection to hearing it.\" \n",
      "\n",
      "This was invitation enough. \n",
      "\n",
      "\"Why, my dear, you must know, Mrs. Long says that Netherfield is taken by a young man of large fortune from the \n",
      "north of England; that he came down on Monday in a chaise and four to see the place, and was so much delighted with it, \n",
      "that he agreed with Mr. Morris immediately; that he is to take possession before Michaelmas, \n",
      "and some of his servants are to be in the house by the end of next week.\" \n",
      "\n",
      "\"What is his name?\n"
     ]
    }
   ],
   "source": [
    "# 1. Create a multiline_text variable by copying the text from the first chapter of Pride and Prejdice.\n",
    "\n",
    "# The snippet of the first chapter's text was taken from the Data Wrangling Workshop GitHub repository, spaces were added to\n",
    "# print the variable in a clean format, the text is stored in the multiline_text variable name, and then printed\n",
    "\n",
    "multiline_text= \"\"\"It is a truth universally acknowledged, that a single man in possession of a good fortune, \n",
    "must be in want of a wife. \n",
    "\n",
    "However little known the feelings or views of such a man may be on his first entering a neighbourhood, \n",
    "this truth is so well fixed in the minds of the surrounding families, \n",
    "that he is considered the rightful property of some one or other of their daughters. \n",
    "\n",
    "\"My dear Mr. Bennet,\" said his lady to him one day, \"have you heard that Netherfield Park is let at last?\" \n",
    "\n",
    "Mr. Bennet replied that he had not. \n",
    "\n",
    "\"But it is,\" returned she; \"for Mrs. Long has just been here, and she told me all about it.\" \n",
    "\n",
    "Mr. Bennet made no answer. \n",
    "\n",
    "\"Do you not want to know who has taken it?\" cried his wife impatiently. \n",
    "\n",
    "\"You want to tell me, and I have no objection to hearing it.\" \n",
    "\n",
    "This was invitation enough. \n",
    "\n",
    "\"Why, my dear, you must know, Mrs. Long says that Netherfield is taken by a young man of large fortune from the \n",
    "north of England; that he came down on Monday in a chaise and four to see the place, and was so much delighted with it, \n",
    "that he agreed with Mr. Morris immediately; that he is to take possession before Michaelmas, \n",
    "and some of his servants are to be in the house by the end of next week.\" \n",
    "\n",
    "\"What is his name?\"\"\"\n",
    "\n",
    "print(multiline_text)"
   ]
  },
  {
   "cell_type": "code",
   "execution_count": 34,
   "id": "2fd3f029",
   "metadata": {},
   "outputs": [
    {
     "name": "stdout",
     "output_type": "stream",
     "text": [
      "multiline_text variable type: <class 'str'>\n",
      "multiline_text variable length: 1244\n"
     ]
    }
   ],
   "source": [
    "# 2. Find the type and length of the multiline_text string using the type and len commands.\n",
    "\n",
    "# Displaying this task prettier to prevent unnecessary extra cells\n",
    "\n",
    "print(\"multiline_text variable type:\", type(multiline_text))\n",
    "print(\"multiline_text variable length:\", len(multiline_text))"
   ]
  },
  {
   "cell_type": "code",
   "execution_count": 35,
   "id": "af5a2c5c",
   "metadata": {},
   "outputs": [
    {
     "name": "stdout",
     "output_type": "stream",
     "text": [
      "It is a truth universally acknowledged that a single man in possession of a good fortune must be in want of a wife However little known the feelings or views of such a man may be on his first entering a neighbourhood this truth is so well fixed in the minds of the surrounding families that he is considered the rightful property of some one or other of their daughters My dear Mr Bennet said his lady to him one day have you heard that Netherfield Park is let at last Mr Bennet replied that he had not But it is returned she for Mrs Long has just been here and she told me all about it Mr Bennet made no answer Do you not want to know who has taken it cried his wife impatiently You want to tell me and I have no objection to hearing it This was invitation enough Why my dear you must know Mrs Long says that Netherfield is taken by a young man of large fortune from the north of England that he came down on Monday in a chaise and four to see the place and was so much delighted with it that he agreed with Mr Morris immediately that he is to take possession before Michaelmas and some of his servants are to be in the house by the end of next week What is his name\n"
     ]
    }
   ],
   "source": [
    "# 3. Remove all new lines and symbols using the replace method.\n",
    "\n",
    "# To remove every new line and symbol (including punctuation), I added multiple replace() functions to the line of code\n",
    "\n",
    "multiline_text = multiline_text.replace('\\n', \"\").replace('\"', \"\").replace('.', \"\").replace('?', \"\")\n",
    "multiline_text = multiline_text.replace(',', \"\").replace(';', \"\")\n",
    "print(multiline_text)"
   ]
  },
  {
   "cell_type": "code",
   "execution_count": 36,
   "id": "258b0325",
   "metadata": {},
   "outputs": [
    {
     "name": "stdout",
     "output_type": "stream",
     "text": [
      "['It', 'is', 'a', 'truth', 'universally', 'acknowledged', 'that', 'a', 'single', 'man', 'in', 'possession', 'of', 'a', 'good', 'fortune', 'must', 'be', 'in', 'want', 'of', 'a', 'wife', 'However', 'little', 'known', 'the', 'feelings', 'or', 'views', 'of', 'such', 'a', 'man', 'may', 'be', 'on', 'his', 'first', 'entering', 'a', 'neighbourhood', 'this', 'truth', 'is', 'so', 'well', 'fixed', 'in', 'the', 'minds', 'of', 'the', 'surrounding', 'families', 'that', 'he', 'is', 'considered', 'the', 'rightful', 'property', 'of', 'some', 'one', 'or', 'other', 'of', 'their', 'daughters', 'My', 'dear', 'Mr', 'Bennet', 'said', 'his', 'lady', 'to', 'him', 'one', 'day', 'have', 'you', 'heard', 'that', 'Netherfield', 'Park', 'is', 'let', 'at', 'last', 'Mr', 'Bennet', 'replied', 'that', 'he', 'had', 'not', 'But', 'it', 'is', 'returned', 'she', 'for', 'Mrs', 'Long', 'has', 'just', 'been', 'here', 'and', 'she', 'told', 'me', 'all', 'about', 'it', 'Mr', 'Bennet', 'made', 'no', 'answer', 'Do', 'you', 'not', 'want', 'to', 'know', 'who', 'has', 'taken', 'it', 'cried', 'his', 'wife', 'impatiently', 'You', 'want', 'to', 'tell', 'me', 'and', 'I', 'have', 'no', 'objection', 'to', 'hearing', 'it', 'This', 'was', 'invitation', 'enough', 'Why', 'my', 'dear', 'you', 'must', 'know', 'Mrs', 'Long', 'says', 'that', 'Netherfield', 'is', 'taken', 'by', 'a', 'young', 'man', 'of', 'large', 'fortune', 'from', 'the', 'north', 'of', 'England', 'that', 'he', 'came', 'down', 'on', 'Monday', 'in', 'a', 'chaise', 'and', 'four', 'to', 'see', 'the', 'place', 'and', 'was', 'so', 'much', 'delighted', 'with', 'it', 'that', 'he', 'agreed', 'with', 'Mr', 'Morris', 'immediately', 'that', 'he', 'is', 'to', 'take', 'possession', 'before', 'Michaelmas', 'and', 'some', 'of', 'his', 'servants', 'are', 'to', 'be', 'in', 'the', 'house', 'by', 'the', 'end', 'of', 'next', 'week', 'What', 'is', 'his', 'name']\n"
     ]
    }
   ],
   "source": [
    "# 4. Find all of the words in multiline_text using the split method.\n",
    "\n",
    "# The split() function typically splits words on the space, yet also can split on different characters (we removed them)\n",
    "\n",
    "multiline_text_words = multiline_text.split()\n",
    "print(multiline_text_words)"
   ]
  },
  {
   "cell_type": "code",
   "execution_count": 55,
   "id": "743311c5",
   "metadata": {
    "scrolled": false
   },
   "outputs": [
    {
     "name": "stdout",
     "output_type": "stream",
     "text": [
      "['me', 'about', 'enough', 'by', 'in', 'you', 'or', 'This', 'down', 'name', 'said', 'agreed', 'known', 'returned', 'little', 'daughters', 'England', 'lady', 'good', 'answer', 'his', 'wife', 'property', 'Monday', 'cried', 'views', 'to', 'take', 'told', 'one', 'my', 'much', 'had', 'entering', 'the', 'young', 'here', 'surrounding', 'I', 'tell', 'Mr', 'other', 'must', 'want', 'Netherfield', 'But', 'let', 'he', 'been', 'universally', 'says', 'be', 'have', 'fortune', 'place', 'that', 'feelings', 'hearing', 'Michaelmas', 'from', 'is', 'chaise', 'before', 'their', 'him', 'invitation', 'fixed', 'families', 'it', 'last', 'just', 'some', 'large', 'well', 'Morris', 'on', 'next', 'Do', 'servants', 'end', 'rightful', 'of', 'with', 'house', 'You', 'for', 'dear', 'delighted', 'and', 'possession', 'made', 'Why', 'Long', 'My', 'man', 'replied', 'she', 'objection', 'not', 'week', 'who', 'are', 'neighbourhood', 'heard', 'so', 'What', 'truth', 'first', 'all', 'at', 'day', 'came', 'acknowledged', 'a', 'single', 'has', 'four', 'It', 'may', 'no', 'Park', 'such', 'see', 'this', 'considered', 'However', 'Mrs', 'taken', 'Bennet', 'north', 'impatiently', 'immediately', 'minds', 'know', 'was']\n"
     ]
    }
   ],
   "source": [
    "# 5. Create a list from this list that will contain only the unique words.\n",
    "\n",
    "# I can take the multiline_text_words variable and convert it into a set, which does not allow the existence of duplicate\n",
    "# words, then convert that set back into a list to print it. The {} defines a set and the [] defines a list\n",
    "\n",
    "unique_set = {x for x in multiline_text_words}\n",
    "unique_list = [x for x in unique_set]\n",
    "print(unique_list)\n"
   ]
  },
  {
   "cell_type": "code",
   "execution_count": 58,
   "id": "b225030f",
   "metadata": {
    "scrolled": true
   },
   "outputs": [
    {
     "name": "stdout",
     "output_type": "stream",
     "text": [
      "{'It': 1, 'is': 8, 'a': 8, 'truth': 2, 'universally': 1, 'acknowledged': 1, 'that': 8, 'single': 1, 'man': 3, 'in': 5, 'possession': 2, 'of': 10, 'good': 1, 'fortune': 2, 'must': 2, 'be': 3, 'want': 3, 'wife': 2, 'However': 1, 'little': 1, 'known': 1, 'the': 8, 'feelings': 1, 'or': 2, 'views': 1, 'such': 1, 'may': 1, 'on': 2, 'his': 5, 'first': 1, 'entering': 1, 'neighbourhood': 1, 'this': 1, 'so': 2, 'well': 1, 'fixed': 1, 'minds': 1, 'surrounding': 1, 'families': 1, 'he': 5, 'considered': 1, 'rightful': 1, 'property': 1, 'some': 2, 'one': 2, 'other': 1, 'their': 1, 'daughters': 1, 'My': 1, 'dear': 2, 'Mr': 4, 'Bennet': 3, 'said': 1, 'lady': 1, 'to': 7, 'him': 1, 'day': 1, 'have': 2, 'you': 3, 'heard': 1, 'Netherfield': 2, 'Park': 1, 'let': 1, 'at': 1, 'last': 1, 'replied': 1, 'had': 1, 'not': 2, 'But': 1, 'it': 5, 'returned': 1, 'she': 2, 'for': 1, 'Mrs': 2, 'Long': 2, 'has': 2, 'just': 1, 'been': 1, 'here': 1, 'and': 5, 'told': 1, 'me': 2, 'all': 1, 'about': 1, 'made': 1, 'no': 2, 'answer': 1, 'Do': 1, 'know': 2, 'who': 1, 'taken': 2, 'cried': 1, 'impatiently': 1, 'You': 1, 'tell': 1, 'I': 1, 'objection': 1, 'hearing': 1, 'This': 1, 'was': 2, 'invitation': 1, 'enough': 1, 'Why': 1, 'my': 1, 'says': 1, 'by': 2, 'young': 1, 'large': 1, 'from': 1, 'north': 1, 'England': 1, 'came': 1, 'down': 1, 'Monday': 1, 'chaise': 1, 'four': 1, 'see': 1, 'place': 1, 'much': 1, 'delighted': 1, 'with': 2, 'agreed': 1, 'Morris': 1, 'immediately': 1, 'take': 1, 'before': 1, 'Michaelmas': 1, 'servants': 1, 'are': 1, 'house': 1, 'end': 1, 'next': 1, 'week': 1, 'What': 1, 'name': 1}\n"
     ]
    }
   ],
   "source": [
    "# 6. Count the number of times the unique word has appeared in the list using the key and value in dict,\n",
    "\n",
    "# The first step for this problem is to turn the words from multiline_text_words into dictionary keys and then add values.\n",
    "# I have made a for loop that does not directly call the key and value in the loop, yet allows the loop to access them in \n",
    "# the background to append the value (+1) to the key (word) until no more occurrences appear, with the final value being the\n",
    "# total number of occurrences for that unique word.\n",
    "\n",
    "unique_words_occurrence = dict.fromkeys(multiline_text_words)\n",
    "\n",
    "for word in multiline_text_words:\n",
    "    if unique_words_occurrence[word] is None:\n",
    "        unique_words_occurrence[word] = 1\n",
    "    else:\n",
    "        unique_words_occurrence[word] += 1\n",
    "print(unique_words_occurrence)"
   ]
  },
  {
   "cell_type": "code",
   "execution_count": 63,
   "id": "f90932b0",
   "metadata": {
    "scrolled": true
   },
   "outputs": [
    {
     "data": {
      "text/plain": [
       "[('of', 10),\n",
       " ('is', 8),\n",
       " ('a', 8),\n",
       " ('that', 8),\n",
       " ('the', 8),\n",
       " ('to', 7),\n",
       " ('in', 5),\n",
       " ('his', 5),\n",
       " ('he', 5),\n",
       " ('it', 5),\n",
       " ('and', 5),\n",
       " ('Mr', 4),\n",
       " ('man', 3),\n",
       " ('be', 3),\n",
       " ('want', 3),\n",
       " ('Bennet', 3),\n",
       " ('you', 3),\n",
       " ('truth', 2),\n",
       " ('possession', 2),\n",
       " ('fortune', 2),\n",
       " ('must', 2),\n",
       " ('wife', 2),\n",
       " ('or', 2),\n",
       " ('on', 2),\n",
       " ('so', 2)]"
      ]
     },
     "execution_count": 63,
     "metadata": {},
     "output_type": "execute_result"
    }
   ],
   "source": [
    "# 7. Find the top 25 words from the unique words that you have found using the slice method.\n",
    "\n",
    "# Using the sorted() function with the reverse argument set to True takes the unique_words_occurrence output and orders it \n",
    "# in descending order. The addition of the key lambda function makes sure that the occurrences are sorted in descending \n",
    "# order according to the number of word occurrences so that we get the proper output when performing the data slice.\n",
    "\n",
    "top_used_words = sorted(unique_words_occurrence.items(), key=lambda x:x[1], reverse=True)\n",
    "top_used_words[slice(25)]"
   ]
  },
  {
   "cell_type": "markdown",
   "id": "795c12b2",
   "metadata": {},
   "source": [
    "## Activity 2.01"
   ]
  },
  {
   "cell_type": "code",
   "execution_count": 2,
   "id": "ac5ad7ff",
   "metadata": {},
   "outputs": [
    {
     "name": "stdout",
     "output_type": "stream",
     "text": [
      "Help on class permutations in module itertools:\n",
      "\n",
      "class permutations(builtins.object)\n",
      " |  permutations(iterable, r=None)\n",
      " |  \n",
      " |  Return successive r-length permutations of elements in the iterable.\n",
      " |  \n",
      " |  permutations(range(3), 2) --> (0,1), (0,2), (1,0), (1,2), (2,0), (2,1)\n",
      " |  \n",
      " |  Methods defined here:\n",
      " |  \n",
      " |  __getattribute__(self, name, /)\n",
      " |      Return getattr(self, name).\n",
      " |  \n",
      " |  __iter__(self, /)\n",
      " |      Implement iter(self).\n",
      " |  \n",
      " |  __next__(self, /)\n",
      " |      Implement next(self).\n",
      " |  \n",
      " |  __reduce__(...)\n",
      " |      Return state information for pickling.\n",
      " |  \n",
      " |  __setstate__(...)\n",
      " |      Set state information for unpickling.\n",
      " |  \n",
      " |  __sizeof__(...)\n",
      " |      Returns size in memory, in bytes.\n",
      " |  \n",
      " |  ----------------------------------------------------------------------\n",
      " |  Static methods defined here:\n",
      " |  \n",
      " |  __new__(*args, **kwargs) from builtins.type\n",
      " |      Create and return a new object.  See help(type) for accurate signature.\n",
      "\n",
      "Help on class dropwhile in module itertools:\n",
      "\n",
      "class dropwhile(builtins.object)\n",
      " |  dropwhile(predicate, iterable, /)\n",
      " |  \n",
      " |  Drop items from the iterable while predicate(item) is true.\n",
      " |  \n",
      " |  Afterwards, return every element until the iterable is exhausted.\n",
      " |  \n",
      " |  Methods defined here:\n",
      " |  \n",
      " |  __getattribute__(self, name, /)\n",
      " |      Return getattr(self, name).\n",
      " |  \n",
      " |  __iter__(self, /)\n",
      " |      Implement iter(self).\n",
      " |  \n",
      " |  __next__(self, /)\n",
      " |      Implement next(self).\n",
      " |  \n",
      " |  __reduce__(...)\n",
      " |      Return state information for pickling.\n",
      " |  \n",
      " |  __setstate__(...)\n",
      " |      Set state information for unpickling.\n",
      " |  \n",
      " |  ----------------------------------------------------------------------\n",
      " |  Static methods defined here:\n",
      " |  \n",
      " |  __new__(*args, **kwargs) from builtins.type\n",
      " |      Create and return a new object.  See help(type) for accurate signature.\n",
      "\n"
     ]
    }
   ],
   "source": [
    "# 1. Look up the definition of permutations and dropwhile from itertools.\n",
    "\n",
    "# The help() function in Python outputs the definition of an unknown module function\n",
    "\n",
    "# Importing itertools is needed to access the permutations() and dropwhile() functions\n",
    "\n",
    "import itertools\n",
    "\n",
    "help(itertools.permutations)\n",
    "help(itertools.dropwhile)"
   ]
  },
  {
   "cell_type": "code",
   "execution_count": 3,
   "id": "2ff88c70",
   "metadata": {},
   "outputs": [
    {
     "data": {
      "text/plain": [
       "<itertools.permutations at 0x1768c442cf0>"
      ]
     },
     "execution_count": 3,
     "metadata": {},
     "output_type": "execute_result"
    }
   ],
   "source": [
    "# 2. Write an expression to generate all the possible three-digit numbers, using 0, 1, and 2.\n",
    "\n",
    "# This can be done by using this line in the definition of permutations that was given and omitting the 2 argument: \n",
    "# permutations(range(3), 2) --> (0,1), (0,2), (1,0), (1,2), (2,0), (2,1)\n",
    "\n",
    "# The range() argument being set to 3 defines the numbers we are looking for as 0, 1, and 2\n",
    "\n",
    "itertools.permutations(range(3))"
   ]
  },
  {
   "cell_type": "code",
   "execution_count": 4,
   "id": "cc9c51ae",
   "metadata": {
    "scrolled": true
   },
   "outputs": [
    {
     "name": "stdout",
     "output_type": "stream",
     "text": [
      "(0, 1, 2)\n",
      "(0, 2, 1)\n",
      "(1, 0, 2)\n",
      "(1, 2, 0)\n",
      "(2, 0, 1)\n",
      "(2, 1, 0)\n"
     ]
    }
   ],
   "source": [
    "# 3. Loop over the iterator expression you generated before. Print each element returned by the iterator. Use assert and \n",
    "# isinstance to make sure that the elements are of the tuple type.\n",
    "\n",
    "# This code is simply a for loop meant to access each element iterated by the above expression, prints them, and asserts \n",
    "# that each element is indeed a tuple\n",
    "\n",
    "for tuple_value in itertools.permutations(range(3)):\n",
    "    print(tuple_value)\n",
    "    assert isinstance(tuple_value, tuple)"
   ]
  },
  {
   "cell_type": "code",
   "execution_count": 6,
   "id": "d2e9d177",
   "metadata": {},
   "outputs": [
    {
     "name": "stdout",
     "output_type": "stream",
     "text": [
      "[1, 2]\n",
      "[2, 1]\n",
      "[1, 0, 2]\n",
      "[1, 2, 0]\n",
      "[2, 0, 1]\n",
      "[2, 1, 0]\n"
     ]
    }
   ],
   "source": [
    "# 4. Write the loop again using dropwhile, with a lambda expression to drop any leading zeros from the tuples. Also, cast \n",
    "# the output of dropwhile to a list.\n",
    "\n",
    "# My for loop here prints a list for each iteration that the loop goes through using the dropwhile() \n",
    "# function with the lambda value set to x == 0 so it can exclude the leading zeroes \n",
    "    \n",
    "for tuple_value in itertools.permutations(range(3)):\n",
    "    print(list(itertools.dropwhile(lambda x: x == 0, tuple_value)))"
   ]
  },
  {
   "cell_type": "code",
   "execution_count": 7,
   "id": "44336f2c",
   "metadata": {},
   "outputs": [
    {
     "data": {
      "text/plain": [
       "list"
      ]
     },
     "execution_count": 7,
     "metadata": {},
     "output_type": "execute_result"
    }
   ],
   "source": [
    "# 5. Check the actual type that dropwhile returns.\n",
    "\n",
    "type(list(itertools.dropwhile(lambda x: x == 0, tuple_value)))"
   ]
  },
  {
   "cell_type": "code",
   "execution_count": 15,
   "id": "0cc4be7d",
   "metadata": {},
   "outputs": [
    {
     "name": "stdout",
     "output_type": "stream",
     "text": [
      "12.0\n",
      "21.0\n",
      "102.0\n",
      "120.0\n",
      "201.0\n",
      "210.0\n"
     ]
    }
   ],
   "source": [
    "# 6. Combine the precdeding code into one block; this time, write a separate function where you will pass the list \n",
    "# generated from dropwhile and the function will return the whole number contained in the list. Although this task can be \n",
    "# achieved using other tricks, treat the incoming list as a stack in the function and generate the number by reading the \n",
    "# individual digits from the stack.\n",
    "\n",
    "# Looking at the GitHub solution for this part was helpful as it allowed me to see the usage of the math library for the \n",
    "# multiplier, which is needed to formulate the digits into their proper whole number forms (the list of [0, 1, 2] with the \n",
    "# multiplier of 10 present basically equates to (2 * 10**0) + (1 * 10**1) + (0 * 10**2) = 2 + 10 = 12). The pop() function \n",
    "# is needed to work with the digits and continuing with the stack along with the math.pow() function which establishes the \n",
    "# multiplier in a for loop that is encased in a function. \n",
    "\n",
    "import math\n",
    "def whole_number_conversion(number_stack):\n",
    "    whole_number = 0\n",
    "    for digit in range(0, len(number_stack)):\n",
    "        whole_number += (number_stack.pop() * (math.pow(10, digit)))\n",
    "    return whole_number\n",
    "\n",
    "# This for loop initializes the above function to iterate through the dropwhile list of lists to create each whole number \n",
    "# and prints them\n",
    "\n",
    "for tuple_value in itertools.permutations(range(3)):\n",
    "    number_stack = list(itertools.dropwhile(lambda x: x == 0, tuple_value))\n",
    "    print(whole_number_conversion(number_stack))"
   ]
  },
  {
   "cell_type": "markdown",
   "id": "ec598e1e",
   "metadata": {},
   "source": [
    "## Activity 2.02"
   ]
  },
  {
   "cell_type": "code",
   "execution_count": 16,
   "id": "36ff8296",
   "metadata": {},
   "outputs": [
    {
     "name": "stdout",
     "output_type": "stream",
     "text": [
      "The file 'sales_record.csv' is opened successfully.\n"
     ]
    }
   ],
   "source": [
    "# 1. Import zip_longest from itertools. Create a function to zip header, line, and fillvalue=None. Open the accompanying \n",
    "# sales_record.csv file by using r mode inside a with block and check that it is opened.\n",
    "\n",
    "# To define the function, I needed to specify the header and line parameters as the function should expect these values to \n",
    "# perform the body of the function on. The line_zip variable will hold onto the zipped line tuple  and is used in the for \n",
    "# loop that I have written to convert each zipped line tuple into a dictionary for each line with the header value as the \n",
    "# dictionary key and the line value and the dictionary value. The function specifies that the line_dict variable is to be \n",
    "# returned to make sure that the None type is avoided.\n",
    "\n",
    "# Importing of zip_longest from itertools\n",
    "\n",
    "from itertools import zip_longest\n",
    "\n",
    "def dict_by_file_line(headers, line):\n",
    "    line_zip = zip_longest(headers, line, fillvalue=None)\n",
    "    line_dict = {x[0]: x[1] for x in line_zip}\n",
    "    return line_dict\n",
    "\n",
    "# The with open statement is combined with an if else conditional statement to visuall show the user that the file actually \n",
    "# opened even if nothing from the file has been directly accessed up to this point.\n",
    "\n",
    "with open('sales_record.csv', 'r') as sales_record:\n",
    "    if sales_record:\n",
    "        print(f\"The file 'sales_record.csv' is opened successfully.\")\n",
    "    else:\n",
    "        print(f\"Failed to open the file 'sales_record.csv'.\")"
   ]
  },
  {
   "cell_type": "code",
   "execution_count": 11,
   "id": "4c11a25a",
   "metadata": {},
   "outputs": [
    {
     "name": "stdout",
     "output_type": "stream",
     "text": [
      "['Region', 'Country', 'Item Type', 'Sales Channel', 'Order Priority', 'Order Date', 'Order ID', 'Ship Date', 'Units Sold', 'Unit Price', 'Unit Cost', 'Total Revenue', 'Total Cost', 'Total Profit']\n"
     ]
    }
   ],
   "source": [
    "# 2. Read the first line and use string methods to generate a list of all the column names.\n",
    "\n",
    "# The csv library is imported here so that the CSV file could be read as a CSV reader object with the delimiter being set \n",
    "# to \",\". The next() function is responsible for reading the next new line of the file (in this case the first line as we \n",
    "# have yet to read any lines) and the resulting column names are stored in a variable. That variable is stripped of the \n",
    "# individual column names and placed into a list using list comprehension and a for loop which iterates through each column \n",
    "# and the final column names list is printed.\n",
    "\n",
    "import csv\n",
    "\n",
    "with open('sales_record.csv', 'r') as sales_record:\n",
    "    records = csv.reader(sales_record, delimiter=',')\n",
    "    header_row = next(records)\n",
    "    headers = [column.strip() for column in header_row]\n",
    "    print(headers)"
   ]
  },
  {
   "cell_type": "code",
   "execution_count": 13,
   "id": "4454afed",
   "metadata": {},
   "outputs": [
    {
     "name": "stdout",
     "output_type": "stream",
     "text": [
      "['Central America and the Caribbean', 'Antigua and Barbuda ', 'Baby Food', 'Online', 'M', '12/20/2013', '957081544', '1/11/2014', '552', '255.28', '159.42', '140914.56', '87999.84', '52914.72']\n",
      "['Central America and the Caribbean', 'Panama', 'Snacks', 'Offline', 'C', '7/5/2010', '301644504', '7/26/2010', '2167', '152.58', '97.44', '330640.86', '211152.48', '119488.38']\n",
      "['Europe', 'Czech Republic', 'Beverages', 'Offline', 'C', '9/12/2011', '478051030', '9/29/2011', '4778', '47.45', '31.79', '226716.10', '151892.62', '74823.48']\n",
      "['Asia', 'North Korea', 'Cereal', 'Offline', 'L', '5/13/2010', '892599952', '6/15/2010', '9016', '205.70', '117.11', '1854591.20', '1055863.76', '798727.44']\n",
      "['Asia', 'Sri Lanka', 'Snacks', 'Offline', 'C', '7/20/2015', '571902596', '7/27/2015', '7542', '152.58', '97.44', '1150758.36', '734892.48', '415865.88']\n"
     ]
    }
   ],
   "source": [
    "# 3. Start reading the file. Read it line by line.\n",
    "\n",
    "# The next() function is used repeatedly to read the next lines in the file and the lines are printed. I will only read the \n",
    "# first five lines after the headers as the dataset is extremely large.\n",
    "\n",
    "with open('sales_record.csv', 'r') as sales_record:\n",
    "    records = csv.reader(sales_record, delimiter=',')\n",
    "    header_row = next(records)\n",
    "    line1 = next(records)\n",
    "    line2 = next(records)\n",
    "    line3 = next(records)\n",
    "    line4 = next(records)\n",
    "    line5 = next(records)\n",
    "    print(line1)\n",
    "    print(line2)\n",
    "    print(line3)\n",
    "    print(line4)\n",
    "    print(line5)"
   ]
  },
  {
   "cell_type": "code",
   "execution_count": 18,
   "id": "7c66a833",
   "metadata": {},
   "outputs": [
    {
     "name": "stdout",
     "output_type": "stream",
     "text": [
      "{'Region': 'Central America and the Caribbean', 'Country': 'Antigua and Barbuda ', 'Item Type': 'Baby Food', 'Sales Channel': 'Online', 'Order Priority': 'M', 'Order Date': '12/20/2013', 'Order ID': '957081544', 'Ship Date': '1/11/2014', 'Units Sold': '552', 'Unit Price': '255.28', 'Unit Cost': '159.42', 'Total Revenue': '140914.56', 'Total Cost': '87999.84', 'Total Profit': '52914.72'}\n",
      "{'Region': 'Central America and the Caribbean', 'Country': 'Panama', 'Item Type': 'Snacks', 'Sales Channel': 'Offline', 'Order Priority': 'C', 'Order Date': '7/5/2010', 'Order ID': '301644504', 'Ship Date': '7/26/2010', 'Units Sold': '2167', 'Unit Price': '152.58', 'Unit Cost': '97.44', 'Total Revenue': '330640.86', 'Total Cost': '211152.48', 'Total Profit': '119488.38'}\n",
      "{'Region': 'Europe', 'Country': 'Czech Republic', 'Item Type': 'Beverages', 'Sales Channel': 'Offline', 'Order Priority': 'C', 'Order Date': '9/12/2011', 'Order ID': '478051030', 'Ship Date': '9/29/2011', 'Units Sold': '4778', 'Unit Price': '47.45', 'Unit Cost': '31.79', 'Total Revenue': '226716.10', 'Total Cost': '151892.62', 'Total Profit': '74823.48'}\n",
      "{'Region': 'Asia', 'Country': 'North Korea', 'Item Type': 'Cereal', 'Sales Channel': 'Offline', 'Order Priority': 'L', 'Order Date': '5/13/2010', 'Order ID': '892599952', 'Ship Date': '6/15/2010', 'Units Sold': '9016', 'Unit Price': '205.70', 'Unit Cost': '117.11', 'Total Revenue': '1854591.20', 'Total Cost': '1055863.76', 'Total Profit': '798727.44'}\n",
      "{'Region': 'Asia', 'Country': 'Sri Lanka', 'Item Type': 'Snacks', 'Sales Channel': 'Offline', 'Order Priority': 'C', 'Order Date': '7/20/2015', 'Order ID': '571902596', 'Ship Date': '7/27/2015', 'Units Sold': '7542', 'Unit Price': '152.58', 'Unit Cost': '97.44', 'Total Revenue': '1150758.36', 'Total Cost': '734892.48', 'Total Profit': '415865.88'}\n"
     ]
    }
   ],
   "source": [
    "# 4. Read each line and pass that line to a function, along with the list of headers.\n",
    "\n",
    "# This problem simply tied everything together by opening the CSV file as a CSV reader object, establishing the headers \n",
    "# with the next() function, writing a for loop that looped through the first five lines of the CSV file after the headers, \n",
    "# and placed each line and the headers into the dict_by_file_line() function. Each resulting dictionary is then printed.\n",
    "\n",
    "with open('sales_record.csv', 'r') as sales_record:\n",
    "    records = csv.reader(sales_record, delimiter=',')\n",
    "    header_row = next(records)\n",
    "    \n",
    "    for iterator in range(5):\n",
    "        line = next(records)\n",
    "        line_dict = dict_by_file_line(headers, line)\n",
    "        print(line_dict)"
   ]
  }
 ],
 "metadata": {
  "kernelspec": {
   "display_name": "Python 3 (ipykernel)",
   "language": "python",
   "name": "python3"
  },
  "language_info": {
   "codemirror_mode": {
    "name": "ipython",
    "version": 3
   },
   "file_extension": ".py",
   "mimetype": "text/x-python",
   "name": "python",
   "nbconvert_exporter": "python",
   "pygments_lexer": "ipython3",
   "version": "3.11.5"
  }
 },
 "nbformat": 4,
 "nbformat_minor": 5
}
