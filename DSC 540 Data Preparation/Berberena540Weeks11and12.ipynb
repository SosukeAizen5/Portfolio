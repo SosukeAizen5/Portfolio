{
 "cells": [
  {
   "cell_type": "code",
   "execution_count": 1,
   "id": "f2a9c123",
   "metadata": {},
   "outputs": [],
   "source": [
    "# Data Wrangling Workshop Chapter 8 Activity Program\n",
    "# DSC 540\n",
    "# Weeks 11 and 12\n",
    "# Data Preparation Assignment Weeks 11 and 12\n",
    "# David Berberena\n",
    "# 6/1/2024"
   ]
  },
  {
   "cell_type": "markdown",
   "id": "002511b4",
   "metadata": {},
   "source": [
    "# Program Start"
   ]
  },
  {
   "cell_type": "markdown",
   "id": "f5bf6e96",
   "metadata": {},
   "source": [
    "## Activity 8.01"
   ]
  },
  {
   "cell_type": "code",
   "execution_count": 2,
   "id": "52bbb2bf",
   "metadata": {},
   "outputs": [
    {
     "name": "stdout",
     "output_type": "stream",
     "text": [
      "You have successfully connected to the petsdb database!\n"
     ]
    }
   ],
   "source": [
    "# Prior to the activity questions, the guidelines state that we need to access the petsdb database in SQL, which means that \n",
    "# I need to import the sqlite3 library to perform SQL commands within Python.\n",
    "\n",
    "import sqlite3\n",
    "\n",
    "# To access the petsdb database, I can use sqlite3's connect() function while naming the database as the argument. However, \n",
    "# the activity instructions say that I need to verify the connection to the database, so I will encase this connect() \n",
    "# function within a try-except block of code and run the verification of the database connection as a function, with the \n",
    "# function performing a SELECT SQL command using the cursor() and execute() functions of sqlite3.\n",
    "\n",
    "def sql_verify():\n",
    "    try:\n",
    "        pet_database = sqlite3.connect('petsdb')\n",
    "        pet_cursor = pet_database.cursor()\n",
    "        pet_cursor.execute('SELECT 1')\n",
    "        pet_database.close()\n",
    "        return True\n",
    "    except sqlite3.Error as error:\n",
    "        print(f'Something went wrong. {error}')\n",
    "        return False\n",
    "\n",
    "# The if-else statement here prints the resulting statement should the verification function prove to be successful or not.\n",
    "    \n",
    "if sql_verify():\n",
    "    print('You have successfully connected to the petsdb database!')\n",
    "else:\n",
    "    print('There was a problem connecting to the petsdb database.')"
   ]
  },
  {
   "cell_type": "code",
   "execution_count": 3,
   "id": "ef4a0b81",
   "metadata": {
    "scrolled": true
   },
   "outputs": [
    {
     "name": "stdout",
     "output_type": "stream",
     "text": [
      "We have 2 people aged 5\n",
      "We have 1 people aged 6\n",
      "We have 1 people aged 7\n",
      "We have 3 people aged 8\n",
      "We have 1 people aged 9\n",
      "We have 2 people aged 11\n",
      "We have 3 people aged 12\n",
      "We have 1 people aged 13\n",
      "We have 4 people aged 14\n",
      "We have 2 people aged 16\n",
      "We have 2 people aged 17\n",
      "We have 3 people aged 18\n",
      "We have 1 people aged 19\n",
      "We have 3 people aged 22\n",
      "We have 2 people aged 23\n",
      "We have 3 people aged 24\n",
      "We have 2 people aged 25\n",
      "We have 1 people aged 27\n",
      "We have 1 people aged 30\n",
      "We have 3 people aged 31\n",
      "We have 1 people aged 32\n",
      "We have 1 people aged 33\n",
      "We have 2 people aged 34\n",
      "We have 3 people aged 35\n",
      "We have 3 people aged 36\n",
      "We have 1 people aged 37\n",
      "We have 2 people aged 39\n",
      "We have 1 people aged 40\n",
      "We have 1 people aged 42\n",
      "We have 2 people aged 44\n",
      "We have 2 people aged 48\n",
      "We have 1 people aged 49\n",
      "We have 1 people aged 50\n",
      "We have 2 people aged 51\n",
      "We have 2 people aged 52\n",
      "We have 2 people aged 53\n",
      "We have 2 people aged 54\n",
      "We have 1 people aged 58\n",
      "We have 1 people aged 59\n",
      "We have 1 people aged 60\n",
      "We have 1 people aged 61\n",
      "We have 2 people aged 62\n",
      "We have 1 people aged 63\n",
      "We have 2 people aged 65\n",
      "We have 2 people aged 66\n",
      "We have 1 people aged 67\n",
      "We have 3 people aged 68\n",
      "We have 1 people aged 69\n",
      "We have 1 people aged 70\n",
      "We have 4 people aged 71\n",
      "We have 1 people aged 72\n",
      "We have 5 people aged 73\n",
      "We have 3 people aged 74\n"
     ]
    }
   ],
   "source": [
    "# 1. What is the count of people belonging to different age groups in the persons table?\n",
    "\n",
    "# As there are an unspecified number of age groups, yet there are more than 1, I have decided to create another function \n",
    "# that iterates through the persons table within the petsdb database in SQL. The function selects all rows in the table, \n",
    "# gleans the age of each person within the persons table, groups those people by the ages that were just identified, and \n",
    "# counts the number of people in each age group. The fetchall() function allows me to store the results into a Python \n",
    "# variable that I can then use a for loop on to extract the count of people and their respective age groups.\n",
    "\n",
    "def people_ages():\n",
    "    pet_database = sqlite3.connect('petsdb')\n",
    "    pet_cursor = pet_database.cursor()\n",
    "    pet_cursor.execute('SELECT count(*), age FROM persons GROUP BY age')\n",
    "    age_groups = pet_cursor.fetchall()\n",
    "    for num_persons, age in age_groups:\n",
    "            print(f'We have {num_persons} people aged {age}')\n",
    "    pet_database.close()\n",
    "            \n",
    "# The function is called to display the number of people in each age group.\n",
    "            \n",
    "people_ages()"
   ]
  },
  {
   "cell_type": "code",
   "execution_count": 4,
   "id": "562799de",
   "metadata": {},
   "outputs": [
    {
     "name": "stdout",
     "output_type": "stream",
     "text": [
      "We have 5 people aged 73\n"
     ]
    }
   ],
   "source": [
    "# 2. Which age group has the maximum number of people?\n",
    "\n",
    "# Since this table is small, I can easily look to see that 73 is the age group with the most number (5 to be exact) of \n",
    "# people in it. However, if this were a large table, I would not be able to discern this answer so quickly. So I will \n",
    "# automate the process of finding this answer by crafting another function to output only the age group with the highest \n",
    "# number of individuals in that group. Here in the SQL query line of code I have added the ORDER, DESC, and LIMIT commands \n",
    "# to ensure that I am ordering the age groups by the number of people in those groups, then making sure the order is \n",
    "# descending in number of people, then only asking for the first observation. I have also changed the previous fetchall() \n",
    "# function to the fetchone() function, since I only need to fetch the one observation I asked for in my query. I have pulled\n",
    "# out the age and number of people I needed to answer the question and have printed them just as before. \n",
    "\n",
    "def max_people_in_age():\n",
    "    pet_database = sqlite3.connect('petsdb')\n",
    "    pet_cursor = pet_database.cursor()\n",
    "    pet_cursor.execute('SELECT count(*), age FROM persons GROUP BY age ORDER by count(*) DESC LIMIT 1')\n",
    "    max_age_group = pet_cursor.fetchone()\n",
    "    num_persons, age = max_age_group\n",
    "    print(f'We have {num_persons} people aged {age}')\n",
    "    pet_database.close()\n",
    "    \n",
    "max_people_in_age()"
   ]
  },
  {
   "cell_type": "code",
   "execution_count": 5,
   "id": "c3fbdb11",
   "metadata": {},
   "outputs": [
    {
     "name": "stdout",
     "output_type": "stream",
     "text": [
      "The number of people who do not have a last name is (60,)\n"
     ]
    }
   ],
   "source": [
    "# 3. How many people do not have a last name?\n",
    "\n",
    "# To answer this question, I will create yet another function that riffs off the other two functions. The difference here is\n",
    "# the query made to SQL as I am asking to count the number of rows that contain the null value for the last_name column.\n",
    "\n",
    "def people_no_lastname():\n",
    "    pet_database = sqlite3.connect('petsdb')\n",
    "    pet_cursor = pet_database.cursor()\n",
    "    pet_cursor.execute('SELECT count(*) FROM persons WHERE last_name IS null')\n",
    "    num_people = pet_cursor.fetchall()\n",
    "    for person in num_people:\n",
    "        print(f'The number of people who do not have a last name is', person)\n",
    "    pet_database.close()\n",
    "    \n",
    "people_no_lastname()"
   ]
  },
  {
   "cell_type": "code",
   "execution_count": 6,
   "id": "b2fb6892",
   "metadata": {},
   "outputs": [
    {
     "name": "stdout",
     "output_type": "stream",
     "text": [
      "The number of people who have more than one pet is 43\n"
     ]
    }
   ],
   "source": [
    "# 4. How many people have more than one pet?\n",
    "\n",
    "# The function I have made here to tackle this issue works the same as the others save for the change in query and change in\n",
    "# output. The query has changed since I am now working with the pets table instead of the persons table, I am counting only \n",
    "# the owner_id column values and holding onto the observations that yield more than one pet. The HAVING command was needed \n",
    "# here as I am initiating a conditional statement using another command, whereas the WHERE command cannot work with another \n",
    "# command in its clause statement. The length of the observations is used to adjust the print statement accordingly.\n",
    "\n",
    "def people_with_multiple_pets():\n",
    "    pet_database = sqlite3.connect('petsdb')\n",
    "    pet_cursor = pet_database.cursor()\n",
    "    pet_cursor.execute('SELECT owner_id, COUNT(*) AS count_of_pets FROM pets GROUP BY owner_id HAVING COUNT(*) > 1')\n",
    "    count_of_pets = pet_cursor.fetchall()\n",
    "    print('The number of people who have more than one pet is', len(count_of_pets))\n",
    "    pet_database.close()\n",
    "    \n",
    "people_with_multiple_pets()"
   ]
  },
  {
   "cell_type": "code",
   "execution_count": 7,
   "id": "1c9ea622",
   "metadata": {},
   "outputs": [
    {
     "name": "stdout",
     "output_type": "stream",
     "text": [
      "The number of pets that have been treated is (36,)\n"
     ]
    }
   ],
   "source": [
    "# 5. How many pets have received treatment?\n",
    "\n",
    "# I have taken my code from the third function and altered the SQL query using the WHERE conditional command as the \n",
    "# treatment_done column specifies that the 1 value means that the pet has indeed been treated.\n",
    "\n",
    "def pets_with_treatment():\n",
    "    pet_database = sqlite3.connect('petsdb')\n",
    "    pet_cursor = pet_database.cursor()\n",
    "    pet_cursor.execute('SELECT count(*) FROM pets WHERE treatment_done = 1')\n",
    "    num_pets = pet_cursor.fetchall()\n",
    "    for pet in num_pets:\n",
    "        print(f'The number of pets that have been treated is', pet)\n",
    "    pet_database.close()\n",
    "    \n",
    "pets_with_treatment()"
   ]
  },
  {
   "cell_type": "code",
   "execution_count": 8,
   "id": "b7301c37",
   "metadata": {},
   "outputs": [
    {
     "name": "stdout",
     "output_type": "stream",
     "text": [
      "The number of known type pets that have been treated is (16,)\n"
     ]
    }
   ],
   "source": [
    "# 6. How many pets have received treatment, and the type of pet is known?\n",
    "\n",
    "# This question takes the function from the previous question and adds another condition, involving the pet_type column, to \n",
    "# the SQL query. I simply added that condition to the end of the query to filter out those pets whose type is unknown.\n",
    "\n",
    "def known_type_pets_with_treatment():\n",
    "    pet_database = sqlite3.connect('petsdb')\n",
    "    pet_cursor = pet_database.cursor()\n",
    "    pet_cursor.execute('SELECT count(*) FROM pets WHERE treatment_done = 1 AND pet_type IS NOT null')\n",
    "    num_pets_treated = pet_cursor.fetchall()\n",
    "    for pet in num_pets_treated:\n",
    "        print(f'The number of known type pets that have been treated is', pet)\n",
    "    pet_database.close()\n",
    "    \n",
    "known_type_pets_with_treatment()"
   ]
  },
  {
   "cell_type": "code",
   "execution_count": 9,
   "id": "1b2b870a",
   "metadata": {},
   "outputs": [
    {
     "name": "stdout",
     "output_type": "stream",
     "text": [
      "The number of pets from east port is (49,)\n"
     ]
    }
   ],
   "source": [
    "# 7. How many pets are from the city called east port?\n",
    "\n",
    "# For this function, as the city column exist in the persons table yet I need the number of pets from the pets table, I need\n",
    "# to change my SQL query to perform a join to have these two tables combine into one. I can make this join happen with the \n",
    "# JOIN command with the condition that the owner_id column in the pets column matches up with the id column in the persons \n",
    "# table. This condition is noted with the ON command. With the join complete, the last part of the query line uses the WHERE\n",
    "# conditional command to target the rows where the city column from the persons table equals east port.\n",
    "\n",
    "def east_port_pets():\n",
    "    pet_database = sqlite3.connect('petsdb')\n",
    "    pet_cursor = pet_database.cursor()\n",
    "    pet_cursor.execute('SELECT count(*)' \n",
    "                       'FROM pets JOIN persons ON pets.owner_id = persons.id WHERE persons.city = \"east port\"')\n",
    "    pets_from_the_east = pet_cursor.fetchall()\n",
    "    for pet in pets_from_the_east:\n",
    "        print(f'The number of pets from east port is', pet)\n",
    "    pet_database.close()\n",
    "    \n",
    "east_port_pets()"
   ]
  },
  {
   "cell_type": "code",
   "execution_count": 10,
   "id": "d261080f",
   "metadata": {},
   "outputs": [
    {
     "name": "stdout",
     "output_type": "stream",
     "text": [
      "The number of treated pets from east port is (11,)\n"
     ]
    }
   ],
   "source": [
    "# 8. How many pets are from the city called east port, and who received treatment?\n",
    "\n",
    "# This function simply adds another condition to the last function, employing the AND command which asks to extract the pets\n",
    "# east port that have been treated using the pets table's treatment_done column.\n",
    "\n",
    "def east_port_treated_pets():\n",
    "    pet_database = sqlite3.connect('petsdb')\n",
    "    pet_cursor = pet_database.cursor()\n",
    "    pet_cursor.execute('SELECT count(*)' \n",
    "                       'FROM pets JOIN persons ON pets.owner_id = persons.id WHERE persons.city = \"east port\"' \n",
    "                       'AND pets.treatment_done = 1')\n",
    "    treated_pets_from_the_east = pet_cursor.fetchall()\n",
    "    for pet in treated_pets_from_the_east:\n",
    "        print(f'The number of treated pets from east port is', pet)\n",
    "    pet_database.close()\n",
    "    \n",
    "east_port_treated_pets()"
   ]
  }
 ],
 "metadata": {
  "kernelspec": {
   "display_name": "Python 3 (ipykernel)",
   "language": "python",
   "name": "python3"
  },
  "language_info": {
   "codemirror_mode": {
    "name": "ipython",
    "version": 3
   },
   "file_extension": ".py",
   "mimetype": "text/x-python",
   "name": "python",
   "nbconvert_exporter": "python",
   "pygments_lexer": "ipython3",
   "version": "3.11.5"
  }
 },
 "nbformat": 4,
 "nbformat_minor": 5
}
