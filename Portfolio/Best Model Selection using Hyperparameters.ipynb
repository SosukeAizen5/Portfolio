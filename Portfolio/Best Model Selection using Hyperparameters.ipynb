{
 "cells": [
  {
   "cell_type": "markdown",
   "id": "5b9224d2",
   "metadata": {},
   "source": [
    "# Best Model Selection and Hyperparameter Tuning\n",
    "\n",
    "# David Berberena\n",
    "\n",
    "# 5/12/2024"
   ]
  },
  {
   "cell_type": "markdown",
   "id": "a0df6d75",
   "metadata": {},
   "source": [
    "# Program Start"
   ]
  },
  {
   "cell_type": "markdown",
   "id": "fc3a3cef",
   "metadata": {},
   "source": [
    "## 1. Import the dataset and ensure that it loaded properly."
   ]
  },
  {
   "cell_type": "code",
   "execution_count": 1,
   "id": "874766e4",
   "metadata": {},
   "outputs": [
    {
     "data": {
      "text/html": [
       "<div>\n",
       "<style scoped>\n",
       "    .dataframe tbody tr th:only-of-type {\n",
       "        vertical-align: middle;\n",
       "    }\n",
       "\n",
       "    .dataframe tbody tr th {\n",
       "        vertical-align: top;\n",
       "    }\n",
       "\n",
       "    .dataframe thead th {\n",
       "        text-align: right;\n",
       "    }\n",
       "</style>\n",
       "<table border=\"1\" class=\"dataframe\">\n",
       "  <thead>\n",
       "    <tr style=\"text-align: right;\">\n",
       "      <th></th>\n",
       "      <th>Loan_ID</th>\n",
       "      <th>Gender</th>\n",
       "      <th>Married</th>\n",
       "      <th>Dependents</th>\n",
       "      <th>Education</th>\n",
       "      <th>Self_Employed</th>\n",
       "      <th>ApplicantIncome</th>\n",
       "      <th>CoapplicantIncome</th>\n",
       "      <th>LoanAmount</th>\n",
       "      <th>Loan_Amount_Term</th>\n",
       "      <th>Credit_History</th>\n",
       "      <th>Property_Area</th>\n",
       "      <th>Loan_Status</th>\n",
       "    </tr>\n",
       "  </thead>\n",
       "  <tbody>\n",
       "    <tr>\n",
       "      <th>0</th>\n",
       "      <td>LP001002</td>\n",
       "      <td>Male</td>\n",
       "      <td>No</td>\n",
       "      <td>0</td>\n",
       "      <td>Graduate</td>\n",
       "      <td>No</td>\n",
       "      <td>5849</td>\n",
       "      <td>0.0</td>\n",
       "      <td>NaN</td>\n",
       "      <td>360.0</td>\n",
       "      <td>1.0</td>\n",
       "      <td>Urban</td>\n",
       "      <td>Y</td>\n",
       "    </tr>\n",
       "    <tr>\n",
       "      <th>1</th>\n",
       "      <td>LP001003</td>\n",
       "      <td>Male</td>\n",
       "      <td>Yes</td>\n",
       "      <td>1</td>\n",
       "      <td>Graduate</td>\n",
       "      <td>No</td>\n",
       "      <td>4583</td>\n",
       "      <td>1508.0</td>\n",
       "      <td>128.0</td>\n",
       "      <td>360.0</td>\n",
       "      <td>1.0</td>\n",
       "      <td>Rural</td>\n",
       "      <td>N</td>\n",
       "    </tr>\n",
       "    <tr>\n",
       "      <th>2</th>\n",
       "      <td>LP001005</td>\n",
       "      <td>Male</td>\n",
       "      <td>Yes</td>\n",
       "      <td>0</td>\n",
       "      <td>Graduate</td>\n",
       "      <td>Yes</td>\n",
       "      <td>3000</td>\n",
       "      <td>0.0</td>\n",
       "      <td>66.0</td>\n",
       "      <td>360.0</td>\n",
       "      <td>1.0</td>\n",
       "      <td>Urban</td>\n",
       "      <td>Y</td>\n",
       "    </tr>\n",
       "    <tr>\n",
       "      <th>3</th>\n",
       "      <td>LP001006</td>\n",
       "      <td>Male</td>\n",
       "      <td>Yes</td>\n",
       "      <td>0</td>\n",
       "      <td>Not Graduate</td>\n",
       "      <td>No</td>\n",
       "      <td>2583</td>\n",
       "      <td>2358.0</td>\n",
       "      <td>120.0</td>\n",
       "      <td>360.0</td>\n",
       "      <td>1.0</td>\n",
       "      <td>Urban</td>\n",
       "      <td>Y</td>\n",
       "    </tr>\n",
       "    <tr>\n",
       "      <th>4</th>\n",
       "      <td>LP001008</td>\n",
       "      <td>Male</td>\n",
       "      <td>No</td>\n",
       "      <td>0</td>\n",
       "      <td>Graduate</td>\n",
       "      <td>No</td>\n",
       "      <td>6000</td>\n",
       "      <td>0.0</td>\n",
       "      <td>141.0</td>\n",
       "      <td>360.0</td>\n",
       "      <td>1.0</td>\n",
       "      <td>Urban</td>\n",
       "      <td>Y</td>\n",
       "    </tr>\n",
       "  </tbody>\n",
       "</table>\n",
       "</div>"
      ],
      "text/plain": [
       "    Loan_ID Gender Married Dependents     Education Self_Employed  \\\n",
       "0  LP001002   Male      No          0      Graduate            No   \n",
       "1  LP001003   Male     Yes          1      Graduate            No   \n",
       "2  LP001005   Male     Yes          0      Graduate           Yes   \n",
       "3  LP001006   Male     Yes          0  Not Graduate            No   \n",
       "4  LP001008   Male      No          0      Graduate            No   \n",
       "\n",
       "   ApplicantIncome  CoapplicantIncome  LoanAmount  Loan_Amount_Term  \\\n",
       "0             5849                0.0         NaN             360.0   \n",
       "1             4583             1508.0       128.0             360.0   \n",
       "2             3000                0.0        66.0             360.0   \n",
       "3             2583             2358.0       120.0             360.0   \n",
       "4             6000                0.0       141.0             360.0   \n",
       "\n",
       "   Credit_History Property_Area Loan_Status  \n",
       "0             1.0         Urban           Y  \n",
       "1             1.0         Rural           N  \n",
       "2             1.0         Urban           Y  \n",
       "3             1.0         Urban           Y  \n",
       "4             1.0         Urban           Y  "
      ]
     },
     "execution_count": 1,
     "metadata": {},
     "output_type": "execute_result"
    }
   ],
   "source": [
    "# Importing the dataset requires the use of Pandas, which will be imported here.\n",
    "\n",
    "import pandas as pd\n",
    "\n",
    "loan_data = 'https://raw.githubusercontent.com/SosukeAizen5/Portfolio/main/DSC%20550%20Data%20Mining/Loan_Train.csv'\n",
    "\n",
    "loan = pd.read_csv(loan_data)\n",
    "\n",
    "# The head() function is used to ensure that the dataset has been loaded in with no issues.\n",
    "\n",
    "loan.head()"
   ]
  },
  {
   "cell_type": "markdown",
   "id": "165a6b68",
   "metadata": {},
   "source": [
    "## 2. Prepare the data for modeling by performing the following steps:\n",
    "- Drop the column “Load_ID.”\n",
    "- Drop any rows with missing data.\n",
    "- Convert the categorical features into dummy variables."
   ]
  },
  {
   "cell_type": "code",
   "execution_count": 2,
   "id": "6bcccdb1",
   "metadata": {
    "scrolled": true
   },
   "outputs": [
    {
     "data": {
      "text/html": [
       "<div>\n",
       "<style scoped>\n",
       "    .dataframe tbody tr th:only-of-type {\n",
       "        vertical-align: middle;\n",
       "    }\n",
       "\n",
       "    .dataframe tbody tr th {\n",
       "        vertical-align: top;\n",
       "    }\n",
       "\n",
       "    .dataframe thead th {\n",
       "        text-align: right;\n",
       "    }\n",
       "</style>\n",
       "<table border=\"1\" class=\"dataframe\">\n",
       "  <thead>\n",
       "    <tr style=\"text-align: right;\">\n",
       "      <th></th>\n",
       "      <th>Gender</th>\n",
       "      <th>Married</th>\n",
       "      <th>Dependents</th>\n",
       "      <th>Education</th>\n",
       "      <th>Self_Employed</th>\n",
       "      <th>ApplicantIncome</th>\n",
       "      <th>CoapplicantIncome</th>\n",
       "      <th>LoanAmount</th>\n",
       "      <th>Loan_Amount_Term</th>\n",
       "      <th>Credit_History</th>\n",
       "      <th>Property_Area</th>\n",
       "      <th>Loan_Status</th>\n",
       "    </tr>\n",
       "  </thead>\n",
       "  <tbody>\n",
       "    <tr>\n",
       "      <th>0</th>\n",
       "      <td>Male</td>\n",
       "      <td>No</td>\n",
       "      <td>0</td>\n",
       "      <td>Graduate</td>\n",
       "      <td>No</td>\n",
       "      <td>5849</td>\n",
       "      <td>0.0</td>\n",
       "      <td>NaN</td>\n",
       "      <td>360.0</td>\n",
       "      <td>1.0</td>\n",
       "      <td>Urban</td>\n",
       "      <td>Y</td>\n",
       "    </tr>\n",
       "    <tr>\n",
       "      <th>1</th>\n",
       "      <td>Male</td>\n",
       "      <td>Yes</td>\n",
       "      <td>1</td>\n",
       "      <td>Graduate</td>\n",
       "      <td>No</td>\n",
       "      <td>4583</td>\n",
       "      <td>1508.0</td>\n",
       "      <td>128.0</td>\n",
       "      <td>360.0</td>\n",
       "      <td>1.0</td>\n",
       "      <td>Rural</td>\n",
       "      <td>N</td>\n",
       "    </tr>\n",
       "    <tr>\n",
       "      <th>2</th>\n",
       "      <td>Male</td>\n",
       "      <td>Yes</td>\n",
       "      <td>0</td>\n",
       "      <td>Graduate</td>\n",
       "      <td>Yes</td>\n",
       "      <td>3000</td>\n",
       "      <td>0.0</td>\n",
       "      <td>66.0</td>\n",
       "      <td>360.0</td>\n",
       "      <td>1.0</td>\n",
       "      <td>Urban</td>\n",
       "      <td>Y</td>\n",
       "    </tr>\n",
       "    <tr>\n",
       "      <th>3</th>\n",
       "      <td>Male</td>\n",
       "      <td>Yes</td>\n",
       "      <td>0</td>\n",
       "      <td>Not Graduate</td>\n",
       "      <td>No</td>\n",
       "      <td>2583</td>\n",
       "      <td>2358.0</td>\n",
       "      <td>120.0</td>\n",
       "      <td>360.0</td>\n",
       "      <td>1.0</td>\n",
       "      <td>Urban</td>\n",
       "      <td>Y</td>\n",
       "    </tr>\n",
       "    <tr>\n",
       "      <th>4</th>\n",
       "      <td>Male</td>\n",
       "      <td>No</td>\n",
       "      <td>0</td>\n",
       "      <td>Graduate</td>\n",
       "      <td>No</td>\n",
       "      <td>6000</td>\n",
       "      <td>0.0</td>\n",
       "      <td>141.0</td>\n",
       "      <td>360.0</td>\n",
       "      <td>1.0</td>\n",
       "      <td>Urban</td>\n",
       "      <td>Y</td>\n",
       "    </tr>\n",
       "  </tbody>\n",
       "</table>\n",
       "</div>"
      ],
      "text/plain": [
       "  Gender Married Dependents     Education Self_Employed  ApplicantIncome  \\\n",
       "0   Male      No          0      Graduate            No             5849   \n",
       "1   Male     Yes          1      Graduate            No             4583   \n",
       "2   Male     Yes          0      Graduate           Yes             3000   \n",
       "3   Male     Yes          0  Not Graduate            No             2583   \n",
       "4   Male      No          0      Graduate            No             6000   \n",
       "\n",
       "   CoapplicantIncome  LoanAmount  Loan_Amount_Term  Credit_History  \\\n",
       "0                0.0         NaN             360.0             1.0   \n",
       "1             1508.0       128.0             360.0             1.0   \n",
       "2                0.0        66.0             360.0             1.0   \n",
       "3             2358.0       120.0             360.0             1.0   \n",
       "4                0.0       141.0             360.0             1.0   \n",
       "\n",
       "  Property_Area Loan_Status  \n",
       "0         Urban           Y  \n",
       "1         Rural           N  \n",
       "2         Urban           Y  \n",
       "3         Urban           Y  \n",
       "4         Urban           Y  "
      ]
     },
     "execution_count": 2,
     "metadata": {},
     "output_type": "execute_result"
    }
   ],
   "source": [
    "# To drop the 'Loan_ID' column, we will use the drop() function specifying our column with the columns argument.\n",
    "\n",
    "loan = loan.drop(columns = ['Loan_ID'])\n",
    "\n",
    "# The head() function is used to verify that the transformation has been done correctly.\n",
    "\n",
    "loan.head()"
   ]
  },
  {
   "cell_type": "code",
   "execution_count": 3,
   "id": "9575ebcd",
   "metadata": {},
   "outputs": [
    {
     "data": {
      "text/html": [
       "<div>\n",
       "<style scoped>\n",
       "    .dataframe tbody tr th:only-of-type {\n",
       "        vertical-align: middle;\n",
       "    }\n",
       "\n",
       "    .dataframe tbody tr th {\n",
       "        vertical-align: top;\n",
       "    }\n",
       "\n",
       "    .dataframe thead th {\n",
       "        text-align: right;\n",
       "    }\n",
       "</style>\n",
       "<table border=\"1\" class=\"dataframe\">\n",
       "  <thead>\n",
       "    <tr style=\"text-align: right;\">\n",
       "      <th></th>\n",
       "      <th>Education</th>\n",
       "      <th>ApplicantIncome</th>\n",
       "      <th>CoapplicantIncome</th>\n",
       "      <th>Property_Area</th>\n",
       "      <th>Loan_Status</th>\n",
       "    </tr>\n",
       "  </thead>\n",
       "  <tbody>\n",
       "    <tr>\n",
       "      <th>0</th>\n",
       "      <td>Graduate</td>\n",
       "      <td>5849</td>\n",
       "      <td>0.0</td>\n",
       "      <td>Urban</td>\n",
       "      <td>Y</td>\n",
       "    </tr>\n",
       "    <tr>\n",
       "      <th>1</th>\n",
       "      <td>Graduate</td>\n",
       "      <td>4583</td>\n",
       "      <td>1508.0</td>\n",
       "      <td>Rural</td>\n",
       "      <td>N</td>\n",
       "    </tr>\n",
       "    <tr>\n",
       "      <th>2</th>\n",
       "      <td>Graduate</td>\n",
       "      <td>3000</td>\n",
       "      <td>0.0</td>\n",
       "      <td>Urban</td>\n",
       "      <td>Y</td>\n",
       "    </tr>\n",
       "    <tr>\n",
       "      <th>3</th>\n",
       "      <td>Not Graduate</td>\n",
       "      <td>2583</td>\n",
       "      <td>2358.0</td>\n",
       "      <td>Urban</td>\n",
       "      <td>Y</td>\n",
       "    </tr>\n",
       "    <tr>\n",
       "      <th>4</th>\n",
       "      <td>Graduate</td>\n",
       "      <td>6000</td>\n",
       "      <td>0.0</td>\n",
       "      <td>Urban</td>\n",
       "      <td>Y</td>\n",
       "    </tr>\n",
       "  </tbody>\n",
       "</table>\n",
       "</div>"
      ],
      "text/plain": [
       "      Education  ApplicantIncome  CoapplicantIncome Property_Area Loan_Status\n",
       "0      Graduate             5849                0.0         Urban           Y\n",
       "1      Graduate             4583             1508.0         Rural           N\n",
       "2      Graduate             3000                0.0         Urban           Y\n",
       "3  Not Graduate             2583             2358.0         Urban           Y\n",
       "4      Graduate             6000                0.0         Urban           Y"
      ]
     },
     "execution_count": 3,
     "metadata": {},
     "output_type": "execute_result"
    }
   ],
   "source": [
    "# Dropping any columns in the dataset with missing values can be accomplished using dropna() with the axis argument set to \n",
    "# 1, indicating the columns with NaN values are to be dropped, and the inplace argument set to True.\n",
    "\n",
    "loan.dropna(axis = 1, inplace = True)\n",
    "\n",
    "# The head() function is used to verify that the transformation has been done correctly.\n",
    "\n",
    "loan.head()"
   ]
  },
  {
   "cell_type": "code",
   "execution_count": 4,
   "id": "71267318",
   "metadata": {},
   "outputs": [
    {
     "data": {
      "text/plain": [
       "Education             object\n",
       "ApplicantIncome        int64\n",
       "CoapplicantIncome    float64\n",
       "Property_Area         object\n",
       "Loan_Status           object\n",
       "dtype: object"
      ]
     },
     "execution_count": 4,
     "metadata": {},
     "output_type": "execute_result"
    }
   ],
   "source": [
    "# Upon looking at the remaining columns in the dataset, we can easily see that 'Education', 'Property_Area', and \n",
    "# 'Loan_Status' are categorical variables. However, I need to verify that Python is also aware of this. I can check the \n",
    "# data type of each column in the dataset with the dtypes() keyword function and look for the 'object' denomination.\n",
    "\n",
    "loan.dtypes"
   ]
  },
  {
   "cell_type": "code",
   "execution_count": 5,
   "id": "7272a474",
   "metadata": {
    "scrolled": true
   },
   "outputs": [
    {
     "data": {
      "text/html": [
       "<div>\n",
       "<style scoped>\n",
       "    .dataframe tbody tr th:only-of-type {\n",
       "        vertical-align: middle;\n",
       "    }\n",
       "\n",
       "    .dataframe tbody tr th {\n",
       "        vertical-align: top;\n",
       "    }\n",
       "\n",
       "    .dataframe thead th {\n",
       "        text-align: right;\n",
       "    }\n",
       "</style>\n",
       "<table border=\"1\" class=\"dataframe\">\n",
       "  <thead>\n",
       "    <tr style=\"text-align: right;\">\n",
       "      <th></th>\n",
       "      <th>ApplicantIncome</th>\n",
       "      <th>CoapplicantIncome</th>\n",
       "      <th>Education_Graduate</th>\n",
       "      <th>Education_Not Graduate</th>\n",
       "      <th>Property_Area_Rural</th>\n",
       "      <th>Property_Area_Semiurban</th>\n",
       "      <th>Property_Area_Urban</th>\n",
       "      <th>Loan_Status_N</th>\n",
       "      <th>Loan_Status_Y</th>\n",
       "    </tr>\n",
       "  </thead>\n",
       "  <tbody>\n",
       "    <tr>\n",
       "      <th>0</th>\n",
       "      <td>5849</td>\n",
       "      <td>0.0</td>\n",
       "      <td>True</td>\n",
       "      <td>False</td>\n",
       "      <td>False</td>\n",
       "      <td>False</td>\n",
       "      <td>True</td>\n",
       "      <td>False</td>\n",
       "      <td>True</td>\n",
       "    </tr>\n",
       "    <tr>\n",
       "      <th>1</th>\n",
       "      <td>4583</td>\n",
       "      <td>1508.0</td>\n",
       "      <td>True</td>\n",
       "      <td>False</td>\n",
       "      <td>True</td>\n",
       "      <td>False</td>\n",
       "      <td>False</td>\n",
       "      <td>True</td>\n",
       "      <td>False</td>\n",
       "    </tr>\n",
       "    <tr>\n",
       "      <th>2</th>\n",
       "      <td>3000</td>\n",
       "      <td>0.0</td>\n",
       "      <td>True</td>\n",
       "      <td>False</td>\n",
       "      <td>False</td>\n",
       "      <td>False</td>\n",
       "      <td>True</td>\n",
       "      <td>False</td>\n",
       "      <td>True</td>\n",
       "    </tr>\n",
       "    <tr>\n",
       "      <th>3</th>\n",
       "      <td>2583</td>\n",
       "      <td>2358.0</td>\n",
       "      <td>False</td>\n",
       "      <td>True</td>\n",
       "      <td>False</td>\n",
       "      <td>False</td>\n",
       "      <td>True</td>\n",
       "      <td>False</td>\n",
       "      <td>True</td>\n",
       "    </tr>\n",
       "    <tr>\n",
       "      <th>4</th>\n",
       "      <td>6000</td>\n",
       "      <td>0.0</td>\n",
       "      <td>True</td>\n",
       "      <td>False</td>\n",
       "      <td>False</td>\n",
       "      <td>False</td>\n",
       "      <td>True</td>\n",
       "      <td>False</td>\n",
       "      <td>True</td>\n",
       "    </tr>\n",
       "  </tbody>\n",
       "</table>\n",
       "</div>"
      ],
      "text/plain": [
       "   ApplicantIncome  CoapplicantIncome  Education_Graduate  \\\n",
       "0             5849                0.0                True   \n",
       "1             4583             1508.0                True   \n",
       "2             3000                0.0                True   \n",
       "3             2583             2358.0               False   \n",
       "4             6000                0.0                True   \n",
       "\n",
       "   Education_Not Graduate  Property_Area_Rural  Property_Area_Semiurban  \\\n",
       "0                   False                False                    False   \n",
       "1                   False                 True                    False   \n",
       "2                   False                False                    False   \n",
       "3                    True                False                    False   \n",
       "4                   False                False                    False   \n",
       "\n",
       "   Property_Area_Urban  Loan_Status_N  Loan_Status_Y  \n",
       "0                 True          False           True  \n",
       "1                False           True          False  \n",
       "2                 True          False           True  \n",
       "3                 True          False           True  \n",
       "4                 True          False           True  "
      ]
     },
     "execution_count": 5,
     "metadata": {},
     "output_type": "execute_result"
    }
   ],
   "source": [
    "# Now that I know that Python recognizes these columns as categorical columns, I will add them as arguments to the \n",
    "# pd.get_dummies() function, which will return dummy variable columns for each of these columns.\n",
    "\n",
    "loan = pd.get_dummies(loan, columns = ['Education', 'Property_Area', 'Loan_Status'])\n",
    "\n",
    "# The head() function is used to verify that the transformation has been done correctly.\n",
    "\n",
    "loan.head()"
   ]
  },
  {
   "cell_type": "markdown",
   "id": "edece7ef",
   "metadata": {},
   "source": [
    "## 3. Split the data into a training and test set, where the “Loan_Status” column is the target."
   ]
  },
  {
   "cell_type": "code",
   "execution_count": 6,
   "id": "7fe94182",
   "metadata": {},
   "outputs": [
    {
     "name": "stdout",
     "output_type": "stream",
     "text": [
      "The number of rows within the cleaned loan dataset are: 614\n",
      "The number of rows within the loan training dataset are: 491\n",
      "The number of rows within the loan test dataset are: 123\n"
     ]
    }
   ],
   "source": [
    "# With the dataset now ready to be used for model creation, I need to import Sci-kitlearn's train_test_split() function to \n",
    "# split the data into a ratio of 80% training set, 20% test set with the target variable being the 'Loan_Status' variable. \n",
    "\n",
    "from sklearn.model_selection import train_test_split\n",
    "\n",
    "# Now with the current dataset having two variables depicting loan status (thanks to the dummy variable transformation), I \n",
    "# will drop them both for the predictors and use only the 'Loan_Status_Y' as the target variable.\n",
    "\n",
    "loan_x = loan.drop(columns = ['Loan_Status_N', 'Loan_Status_Y'])\n",
    "loan_y = loan['Loan_Status_Y']\n",
    "\n",
    "loan_xtrain, loan_xtest, loan_ytrain, loan_ytest = train_test_split(loan_x, loan_y, test_size=0.2, random_state=123)\n",
    "\n",
    "# I will now verify that the split has been made accurately by comparing the size of the dataset before and after the split.\n",
    "\n",
    "print('The number of rows within the cleaned loan dataset are:', loan.shape[0])\n",
    "print('The number of rows within the loan training dataset are:', loan_xtrain.shape[0])\n",
    "print('The number of rows within the loan test dataset are:', loan_xtest.shape[0])"
   ]
  },
  {
   "cell_type": "markdown",
   "id": "f38edeaa",
   "metadata": {},
   "source": [
    "## 4. Create a pipeline with a min-max scaler and a KNN classifier."
   ]
  },
  {
   "cell_type": "code",
   "execution_count": 7,
   "id": "e2525ee7",
   "metadata": {},
   "outputs": [],
   "source": [
    "# In order to create a pipeline, I needed to import the Pipeline() function from Sci-kitlearn's pipeline module. We have \n",
    "# worked with the min-max scaler before, so I will simply import that again from Sci-kitlearn's preprocessing module. The \n",
    "# same holds true for the KNN classifier, yet that functionality is imported from the neighbors module.\n",
    "\n",
    "from sklearn.pipeline import Pipeline\n",
    "from sklearn.preprocessing import MinMaxScaler\n",
    "from sklearn.neighbors import KNeighborsClassifier\n",
    "\n",
    "loan_pipe = Pipeline([('scaler', MinMaxScaler()), ('knn', KNeighborsClassifier())])"
   ]
  },
  {
   "cell_type": "markdown",
   "id": "efc96b80",
   "metadata": {},
   "source": [
    "## 5. Fit a default KNN classifier to the data with this pipeline. Report the model accuracy on the test set."
   ]
  },
  {
   "cell_type": "code",
   "execution_count": 8,
   "id": "2125836f",
   "metadata": {},
   "outputs": [
    {
     "name": "stdout",
     "output_type": "stream",
     "text": [
      "The accuracy of the model on the test set data is: 0.6178861788617886\n"
     ]
    }
   ],
   "source": [
    "# As this task asks us for an accuracy measure, we will import the accuracy_score() function from Sci-kitlearn's metrics.\n",
    "\n",
    "from sklearn.metrics import accuracy_score\n",
    "\n",
    "# As a pipeline model fits the data in the same way a regular model does, I have written the code for the pipeline model \n",
    "# almost exactly as I would have for a regular linear regression model.\n",
    "\n",
    "loan_pipe.fit(loan_xtrain, loan_ytrain)\n",
    "\n",
    "loan_predictions = loan_pipe.predict(loan_xtest)\n",
    "\n",
    "loan_accuracy = accuracy_score(loan_ytest, loan_predictions)\n",
    "\n",
    "# The accuracy statistic is printed here. \n",
    "\n",
    "print('The accuracy of the model on the test set data is:', loan_accuracy)"
   ]
  },
  {
   "cell_type": "markdown",
   "id": "8d43f726",
   "metadata": {},
   "source": [
    "## 6. Create a search space for your KNN classifier where your “n_neighbors” parameter varies from 1 to 10."
   ]
  },
  {
   "cell_type": "code",
   "execution_count": 9,
   "id": "809735cf",
   "metadata": {},
   "outputs": [],
   "source": [
    "# Once again referring to section 15.3, the search space is a variable that I will create that will define the number of \n",
    "# nearest neighbors as a range of 1 to 10. I will write my search space variable in the same way as shown in the text.\n",
    "\n",
    "loan_search = [{'knn__n_neighbors': [1, 2, 3, 4, 5, 6, 7, 8, 9, 10]}]\n",
    "\n",
    "# Now this variable can be placed into the pipeline to have the dataset be ran through the pipeline with each new number of \n",
    "# nearest neighbors."
   ]
  },
  {
   "cell_type": "markdown",
   "id": "26ce4f51",
   "metadata": {},
   "source": [
    "## 7. Fit a grid search with your pipeline, search space, and 5-fold cross-validation to find the best value for the “n_neighbors” parameter."
   ]
  },
  {
   "cell_type": "code",
   "execution_count": 10,
   "id": "39f960f7",
   "metadata": {},
   "outputs": [
    {
     "name": "stdout",
     "output_type": "stream",
     "text": [
      "The best value for the n_neighbors parameter is: 9\n"
     ]
    }
   ],
   "source": [
    "# To fit a grid search, I need to access the GridSearchCV() function from Scikitlearn's model_selection module.\n",
    "\n",
    "from sklearn.model_selection import GridSearchCV\n",
    "\n",
    "# I will craft the grid search object and fit it to the training set. The arguments for the grid search need to be the \n",
    "# pipeline, the search space, and the cross-validation of 5. The verbose argument being set to 0 is simply so that there is \n",
    "# no output once the grid search fits the data.\n",
    "\n",
    "loan_grid = GridSearchCV(loan_pipe, loan_search, cv = 5, verbose = 0)\n",
    "\n",
    "# The grid search is then fitted to the data like every other model I have run across so far, except it is now to be stored\n",
    "# in a variable to call and access various features.\n",
    "\n",
    "grid_search_model_loan = loan_grid.fit(loan_xtrain, loan_ytrain)\n",
    "\n",
    "# To realize the best value for the 'n_neighbors' parameter, I can access new features within the grid search, such as the \n",
    "# best_estimator_, which tells me what the best model in the search is, and the get_params() functions, which outputs the \n",
    "# best value for the paramater we have set, which in our case is the 'n_neighbors' parameter we need.\n",
    "\n",
    "# I will print the best value for the n_neighbors parameter.\n",
    "\n",
    "print('The best value for the n_neighbors parameter is:', \n",
    "      grid_search_model_loan.best_estimator_.get_params()['knn__n_neighbors'])"
   ]
  },
  {
   "cell_type": "markdown",
   "id": "6277ea5b",
   "metadata": {},
   "source": [
    "## 8. Find the accuracy of the grid search best model on the test set."
   ]
  },
  {
   "cell_type": "code",
   "execution_count": 11,
   "id": "2f428870",
   "metadata": {},
   "outputs": [
    {
     "name": "stdout",
     "output_type": "stream",
     "text": [
      "The grid search model accuracy on the test set is: 0.6747967479674797\n"
     ]
    }
   ],
   "source": [
    "# We've actually already found the best model within the last task's process, so I will store that model within a variable.\n",
    "\n",
    "loan_best_model = grid_search_model_loan.best_estimator_\n",
    "\n",
    "# Now I can perform the process for the accuracy score just like any other model we've worked with by finding the test \n",
    "# predictions and using them to find the accuracy score.\n",
    "\n",
    "best_loan_predictions = loan_best_model.predict(loan_xtest)\n",
    "\n",
    "best_model_accuracy = accuracy_score(loan_ytest, best_loan_predictions)\n",
    "\n",
    "# The accuracy statistic is printed here.\n",
    "\n",
    "print('The grid search model accuracy on the test set is:', best_model_accuracy)"
   ]
  },
  {
   "cell_type": "markdown",
   "id": "0f6a1264",
   "metadata": {},
   "source": [
    "## 9. Now, repeat steps 6 and 7 with the same pipeline, but expand your search space to include logistic regression and random forest models with the hyperparameter values in section 12.3 of the Machine Learning with Python Cookbook."
   ]
  },
  {
   "cell_type": "code",
   "execution_count": 12,
   "id": "99907367",
   "metadata": {},
   "outputs": [
    {
     "name": "stdout",
     "output_type": "stream",
     "text": [
      "Pipeline(steps=[('scaler', MinMaxScaler()),\n",
      "                ('classifier',\n",
      "                 LogisticRegression(C=7.742636826811269, max_iter=500,\n",
      "                                    solver='liblinear'))])\n"
     ]
    }
   ],
   "source": [
    "# This task involves the updating of the search space by adding in the new models and hyperparameter values needed from the \n",
    "# aforementioned section of the text. To access logistic regression and random forest models, I need to import their \n",
    "# respective functions from Sci-kitlearn.\n",
    "\n",
    "import numpy as np\n",
    "from sklearn.linear_model import LogisticRegression\n",
    "from sklearn.ensemble import RandomForestClassifier\n",
    "\n",
    "# After seeing the hyperparameters, I amended the previous pipeline slightly to match the classifier key seen in the other \n",
    "# classifier information provided by the text.\n",
    "\n",
    "new_loan_pipe = Pipeline([('scaler', MinMaxScaler()), ('classifier', KNeighborsClassifier())])\n",
    "\n",
    "# The search space variable has been updated with these hyperparameters here.\n",
    "\n",
    "involved_loan_search = [{'classifier': [KNeighborsClassifier()], \n",
    "                         'classifier__n_neighbors': [1, 2, 3, 4, 5, 6, 7, 8, 9, 10]}, \n",
    "                        {'classifier': [LogisticRegression(max_iter=500, solver='liblinear')], \n",
    "                         'classifier__penalty': ['l1', 'l2'], 'classifier__C': np.logspace(0, 4, 10)}, \n",
    "                        {'classifier': [RandomForestClassifier()], 'classifier__n_estimators': [10, 100, 1000], \n",
    "                         'classifier__max_features': [1, 2, 3]}]\n",
    "\n",
    "# The code is the same now from the previous steps six and seven, with a slight amendment to the print statement regarding \n",
    "# the access of the parameters for the best model parameters, as now that there are three classifier models in the grid \n",
    "# search, I can't be certain that the KNN classifier will still be considered the best model. I have chosen to print the \n",
    "# best model first to see whether the n_neighbors parameter still applies as the best parameter.\n",
    "\n",
    "involved_loan_grid = GridSearchCV(new_loan_pipe, involved_loan_search, cv = 5, verbose = 0)\n",
    "\n",
    "grid_search_model_involved_loan = involved_loan_grid.fit(loan_xtrain, loan_ytrain)\n",
    "\n",
    "involved_loan_best_model = grid_search_model_involved_loan.best_estimator_\n",
    "\n",
    "print(involved_loan_best_model)"
   ]
  },
  {
   "cell_type": "markdown",
   "id": "9541f7e9",
   "metadata": {},
   "source": [
    "## 10. What are the best model and hyperparameters found in the grid search? Find the accuracy of this model on the test set."
   ]
  },
  {
   "cell_type": "code",
   "execution_count": 13,
   "id": "55d0cccf",
   "metadata": {
    "scrolled": true
   },
   "outputs": [
    {
     "name": "stdout",
     "output_type": "stream",
     "text": [
      "{'classifier': LogisticRegression(C=7.742636826811269, max_iter=500, solver='liblinear'), 'classifier__C': 7.742636826811269, 'classifier__penalty': 'l2'}\n"
     ]
    }
   ],
   "source": [
    "# Now that we see that our best model in this case is the logistic regression model, we can disregard the n_neighbors \n",
    "# parameter and focus on the logistic regression parameters. I will print them using the best_params_ function.\n",
    "\n",
    "print(grid_search_model_involved_loan.best_params_)"
   ]
  },
  {
   "cell_type": "code",
   "execution_count": 14,
   "id": "30c91998",
   "metadata": {},
   "outputs": [
    {
     "name": "stdout",
     "output_type": "stream",
     "text": [
      "The grid search model accuracy on the test set is: 0.6504065040650406\n"
     ]
    }
   ],
   "source": [
    "# Now for the accuracy, the same code as before applies.\n",
    "\n",
    "involved_loan_predictions = involved_loan_best_model.predict(loan_xtest)\n",
    "\n",
    "involved_loan_accuracy = accuracy_score(loan_ytest, involved_loan_predictions)\n",
    "\n",
    "print('The grid search model accuracy on the test set is:', involved_loan_accuracy)"
   ]
  },
  {
   "cell_type": "markdown",
   "id": "1e06a5a6",
   "metadata": {},
   "source": [
    "## 11. Summarize your results."
   ]
  },
  {
   "cell_type": "markdown",
   "id": "5edab81d",
   "metadata": {},
   "source": [
    "Looking at the exercises holistically, I was interested to see that with the inclusion of more classifiers with their corresponding parameters, the accuracy of the best model decreased. Also, the model changed from being a KNN classifier to a logistic regression classifier. In addition, the best parameter changed from n_neighbors to classifier__C. The search space initially helped to increase the KNN classifier's accuracy, yet after the introduction of the new classifiers, the search space was too large to optimize the hyperparameters that needed to be selected to benefit model accuracy. The default KNN started at 61% accuracy, then jumped to 67% accuracy with the inclusion of the search space for the KNN values, then fell to 65% with the addition of the two other classifiers with their own parameters. Granted, the whole basis of these models was a dataset that looked at the ability of loan candidates to be classified as being accepted or rejected. With the highest model accuracy being right only two-thirds of the time is rather low for a large financial investment. In my opinion, I think another model strategy would be a better option to improve accuracy so banks and customers alike can be certain that the income they have is sufficient for the loan not to default. "
   ]
  }
 ],
 "metadata": {
  "kernelspec": {
   "display_name": "Python 3 (ipykernel)",
   "language": "python",
   "name": "python3"
  },
  "language_info": {
   "codemirror_mode": {
    "name": "ipython",
    "version": 3
   },
   "file_extension": ".py",
   "mimetype": "text/x-python",
   "name": "python",
   "nbconvert_exporter": "python",
   "pygments_lexer": "ipython3",
   "version": "3.11.5"
  }
 },
 "nbformat": 4,
 "nbformat_minor": 5
}
