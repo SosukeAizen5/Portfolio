{
 "cells": [
  {
   "cell_type": "code",
   "execution_count": 1,
   "id": "70107b2a",
   "metadata": {},
   "outputs": [],
   "source": [
    "# Jupyter Notebook Chapter 5 and 6 Exercises Program\n",
    "# DSC 530\n",
    "# Week 5\n",
    "# EDA Assignment Week 5\n",
    "# David Berberena\n",
    "# 1/14/2024\n",
    "\n",
    "# Program Start\n",
    "\n",
    "# Exercise 5-1\n",
    "\n",
    "# Code taken from the Exercise file to establish the correct dataset manipulation environment\n",
    "\n",
    "import scipy.stats"
   ]
  },
  {
   "cell_type": "code",
   "execution_count": null,
   "id": "707aba70",
   "metadata": {},
   "outputs": [],
   "source": [
    "# In the BRFSS (see Section 5.4), the distribution of heights is roughly normal with parameters µ = 178 cm and σ = 7.7 cm \n",
    "# for men, and µ = 163 cm and σ = 7.3 cm for women.\n",
    "\n",
    "# In order to join Blue Man Group, you have to be male between 5’10” and 6’1” (see http://bluemancasting.com). \n",
    "# What percentage of the U.S. male population is in this range? Hint: use scipy.stats.norm.cdf."
   ]
  },
  {
   "cell_type": "code",
   "execution_count": 2,
   "id": "890ccefb",
   "metadata": {},
   "outputs": [
    {
     "data": {
      "text/plain": [
       "scipy.stats._distn_infrastructure.rv_continuous_frozen"
      ]
     },
     "execution_count": 2,
     "metadata": {},
     "output_type": "execute_result"
    }
   ],
   "source": [
    "# Code taken from the Exercise file to establish the exercise parameters\n",
    "\n",
    "mu = 178\n",
    "sigma = 7.7\n",
    "dist = scipy.stats.norm(loc=mu, scale=sigma)\n",
    "type(dist)"
   ]
  },
  {
   "cell_type": "code",
   "execution_count": 3,
   "id": "9618ea07",
   "metadata": {},
   "outputs": [
    {
     "data": {
      "text/plain": [
       "(178.0, 7.7)"
      ]
     },
     "execution_count": 3,
     "metadata": {},
     "output_type": "execute_result"
    }
   ],
   "source": [
    "dist.mean(), dist.std()"
   ]
  },
  {
   "cell_type": "code",
   "execution_count": 4,
   "id": "7231cd33",
   "metadata": {},
   "outputs": [
    {
     "data": {
      "text/plain": [
       "0.1586552539314574"
      ]
     },
     "execution_count": 4,
     "metadata": {},
     "output_type": "execute_result"
    }
   ],
   "source": [
    "dist.cdf(mu - sigma)"
   ]
  },
  {
   "cell_type": "code",
   "execution_count": 5,
   "id": "c2d35fd4",
   "metadata": {},
   "outputs": [],
   "source": [
    "# How many people are between 5'10\" and 6'1\"?\n",
    "\n",
    "# A height of 5'10\" converted to centimeters is 177.8 cm, while a height of 6'1\" converts to 185.4 cm\n",
    "\n",
    "# Variables will store the percentage of people who are the specified height or shorter\n",
    "\n",
    "# height1 variable will be for those people who are 5'10\" or shorter\n",
    "\n",
    "height1 = dist.cdf(177.8)\n",
    "\n",
    "# height2 variable will be for those people who are 6'1\" or shorter\n",
    "\n",
    "height2 = dist.cdf(185.4)"
   ]
  },
  {
   "cell_type": "code",
   "execution_count": 6,
   "id": "abc094cb",
   "metadata": {},
   "outputs": [
    {
     "name": "stdout",
     "output_type": "stream",
     "text": [
      "The percentage of people who are between 5 ft 10 in and 6 ft 1 in is 34.20946829459531.\n"
     ]
    }
   ],
   "source": [
    "# To solve how many people are between 5'10\" and 6'1\", height2 will be \n",
    "# subtracted from height1 and then multiplied by 100 to display the answer as a percentage\n",
    "\n",
    "percent_height = (height2 - height1) * 100\n",
    "\n",
    "print(f'The percentage of people who are between 5 ft 10 in and 6 ft 1 in is {percent_height}.')"
   ]
  },
  {
   "cell_type": "code",
   "execution_count": 10,
   "id": "259ab7b1",
   "metadata": {},
   "outputs": [
    {
     "name": "stdout",
     "output_type": "stream",
     "text": [
      "The median Pareto world human height is 1.5034066538560549 meters tall.\n"
     ]
    }
   ],
   "source": [
    "# Exercise 5-2\n",
    "\n",
    "# To get a feel for the Pareto distribution, let’s see how different the world would be if the distribution of \n",
    "# human height were Pareto. With the parameters xm = 1 m and α = 1.7, we get a distribution with a reasonable \n",
    "# minimum, 1 m, and median, 1.5 m. Plot this distribution. What is the mean human height in Pareto world? \n",
    "# What fraction of the population is shorter than the mean? If there are 7 billion people in Pareto world, how many \n",
    "# do we expect to be taller than 1 km? How tall do we expect the tallest person to be?\n",
    "\n",
    "# Code taken from the Exercise file to establish the exercise parameters\n",
    "\n",
    "alpha = 1.7\n",
    "xmin = 1  # meter\n",
    "dist = scipy.stats.pareto(b=alpha, scale=xmin)\n",
    "\n",
    "# Print statement is created for the output to have increased meaning for the end user\n",
    "\n",
    "print(f'The median Pareto world human height is {dist.median()} meters tall.')"
   ]
  },
  {
   "cell_type": "code",
   "execution_count": 11,
   "id": "a21786d7",
   "metadata": {},
   "outputs": [
    {
     "name": "stdout",
     "output_type": "stream",
     "text": [
      "The mean human height in Pareto world is 2.428571428571429 meters tall.\n"
     ]
    }
   ],
   "source": [
    "# What is the mean human height in Pareto world?\n",
    "\n",
    "# We will use the dist.mean() function to compute the mean height within the established Pareto world\n",
    "\n",
    "# Print statement is created for the output to have increased meaning for the end user\n",
    "\n",
    "print(f'The mean human height in Pareto world is {dist.mean()} meters tall.'"
   ]
  },
  {
   "cell_type": "code",
   "execution_count": 13,
   "id": "c7e405f6",
   "metadata": {},
   "outputs": [
    {
     "name": "stdout",
     "output_type": "stream",
     "text": [
      "The fraction of people shorter than the mean in Pareto world is 77.87396975652881 percent.\n"
     ]
    }
   ],
   "source": [
    "# What fraction of people are shorter than the mean?\n",
    "\n",
    "# We will use the dist.cdf() function to compute the percentage of people shorter than the mean\n",
    "# The dist.mean() function will need to be passed into dist.cdf() to see how many people fall below the mean height\n",
    "\n",
    "# Variable is created for ease of usage in a print statement\n",
    "\n",
    "pareto_percent_shorter = dist.cdf(dist.mean()) * 100\n",
    "\n",
    "# Print statement is created for the output to have increased meaning for the end user\n",
    "\n",
    "print(f'The fraction of people shorter than the mean in Pareto world is {pareto_percent_shorter} percent.')"
   ]
  },
  {
   "cell_type": "code",
   "execution_count": 15,
   "id": "251b5304",
   "metadata": {},
   "outputs": [
    {
     "name": "stdout",
     "output_type": "stream",
     "text": [
      "The expected number of people to be taller than 1 kilometer is 55602.976430479954.\n"
     ]
    }
   ],
   "source": [
    "# If there are 7 billion people in Pareto world, how many do we expect to be taller than 1 km?\n",
    "\n",
    "# As we have seen in this exercise context, dist.cdf() provides the percentage that a person will be shorter than \n",
    "# a given height, so 1 - dist.cdf will give us the percentage a person will be taller than a given height\n",
    "\n",
    "# 1 kilometer needs to be turned into 1000 meters to work as a parameter in this environment\n",
    "\n",
    "# Variables are created to hold the numeric values given in this question\n",
    "\n",
    "num_pareto_people = 7000000000\n",
    "pareto_fraction_larger = 1 - dist.cdf(1000)\n",
    "total_num_people_larger = pareto_fraction_larger *  num_pareto_people\n",
    "\n",
    "# Print statement is created for the output to have increased meaning for the end user\n",
    "\n",
    "print(f'The expected number of people to be taller than 1 kilometer is {total_num_people_larger}.')"
   ]
  },
  {
   "cell_type": "code",
   "execution_count": 107,
   "id": "e2d0b896",
   "metadata": {},
   "outputs": [
    {
     "name": "stdout",
     "output_type": "stream",
     "text": [
      "The expected number of people to be taller than 618349.75 meters is 1.0000001937626735.\n",
      "Therefore, 618349.75 meters is the expected tallest height a person can be in Pareto world.\n"
     ]
    }
   ],
   "source": [
    "# How tall do we expect the tallest person to be?\n",
    "\n",
    "# This was difficult as it called for many trials to be run regarding the height of the tallest person\n",
    "# The answer to this question was gleaned by using the previous formula and making the output as close to 1 as possible, as\n",
    "# that input would represent the total height in meters that one would expect the tallest person in Pareto world to be.\n",
    "\n",
    "tallest_person = (1 - dist.cdf(618349.75)) * num_pareto_people\n",
    "\n",
    "# Any number higher than 618349.75 meters would cause the total number of people expected to be taller would drop below 1\n",
    "\n",
    "# Print statements are generated for clearer understanding of the answer\n",
    "\n",
    "print(f'The expected number of people to be taller than 618349.75 meters is {tallest_person}.') \n",
    "print('Therefore, 618349.75 meters is the expected tallest height a person can be in Pareto world.')"
   ]
  },
  {
   "cell_type": "code",
   "execution_count": 2,
   "id": "6a5acc8c",
   "metadata": {},
   "outputs": [],
   "source": [
    "# Exercise 6-1\n",
    "\n",
    "# Code taken from the Exercise file to establish the correct dataset manipulation environment\n",
    "\n",
    "from os.path import basename, exists\n",
    "\n",
    "\n",
    "def download(url):\n",
    "    filename = basename(url)\n",
    "    if not exists(filename):\n",
    "        from urllib.request import urlretrieve\n",
    "\n",
    "        local, _ = urlretrieve(url, filename)\n",
    "        print(\"Downloaded \" + local)\n",
    "\n",
    "\n",
    "download(\"https://github.com/AllenDowney/ThinkStats2/raw/master/code/thinkstats2.py\")\n",
    "download(\"https://github.com/AllenDowney/ThinkStats2/raw/master/code/thinkplot.py\")"
   ]
  },
  {
   "cell_type": "code",
   "execution_count": 3,
   "id": "bcb75e5b",
   "metadata": {},
   "outputs": [],
   "source": [
    "# Importing of libraries for data manipulation\n",
    "\n",
    "import numpy as np\n",
    "\n",
    "import thinkstats2\n",
    "import thinkplot"
   ]
  },
  {
   "cell_type": "code",
   "execution_count": 19,
   "id": "ddbef0d5",
   "metadata": {},
   "outputs": [],
   "source": [
    "# Code taken from the Exercise file to establish the functions needed for exercise completion\n",
    "# I had to change the Median and PearsonMedianSkewness functions to output the desired results\n",
    "\n",
    "def RawMoment(xs, k):\n",
    "    return sum(x**k for x in xs) / len(xs)\n",
    "\n",
    "def Mean(xs):\n",
    "    return RawMoment(xs, 1)\n",
    "\n",
    "def CentralMoment(xs, k):\n",
    "    mean = RawMoment(xs, 1)\n",
    "    return sum((x - mean)**k for x in xs) / len(xs)\n",
    "\n",
    "def StandardizedMoment(xs, k):\n",
    "    var = CentralMoment(xs, 2)\n",
    "    std = np.sqrt(var)\n",
    "    return CentralMoment(xs, k) / std**k\n",
    "\n",
    "def Skewness(xs):\n",
    "    return StandardizedMoment(xs, 3)\n",
    "\n",
    "def Median(xs):\n",
    "    return np.median(xs) \n",
    "\n",
    "def PearsonMedianSkewness(xs):\n",
    "    median = Median(xs)\n",
    "    mean = RawMoment(xs, 1)\n",
    "    var = CentralMoment(xs, 2)\n",
    "    std = np.sqrt(var)\n",
    "    gp = 3 * (mean - median) / std\n",
    "    return gp\n",
    "\n",
    "def InterpolateSample(df, log_upper=6.0):\n",
    "    df['log_upper'] = np.log10(df.income)\n",
    "\n",
    "    df['log_lower'] = df.log_upper.shift(1)\n",
    "    df.loc[0, 'log_lower'] = 3.0\n",
    "\n",
    "    df.loc[41, 'log_upper'] = log_upper\n",
    "\n",
    "    arrays = []\n",
    "    for _, row in df.iterrows():\n",
    "        vals = np.linspace(row.log_lower, row.log_upper, int(row.freq))\n",
    "        arrays.append(vals)\n",
    "\n",
    "    log_sample = np.concatenate(arrays)\n",
    "    return log_sample\n"
   ]
  },
  {
   "cell_type": "code",
   "execution_count": 5,
   "id": "acc10a48",
   "metadata": {},
   "outputs": [],
   "source": [
    "# Downloading of files needed to access the exercise information\n",
    "\n",
    "download(\"https://github.com/AllenDowney/ThinkStats2/raw/master/code/hinc.py\")\n",
    "download(\"https://github.com/AllenDowney/ThinkStats2/raw/master/code/hinc06.csv\")"
   ]
  },
  {
   "cell_type": "code",
   "execution_count": 6,
   "id": "950158d4",
   "metadata": {},
   "outputs": [],
   "source": [
    "# Code taken from the Exercise file to establish the correct file data\n",
    "\n",
    "import hinc\n",
    "income_df = hinc.ReadData()"
   ]
  },
  {
   "cell_type": "code",
   "execution_count": 7,
   "id": "78c4f3e4",
   "metadata": {},
   "outputs": [],
   "source": [
    "# Code taken from the Exercise file to establish the sample variable\n",
    "\n",
    "log_sample = InterpolateSample(income_df, log_upper=6.0)\n",
    "\n",
    "sample = np.power(10, log_sample)"
   ]
  },
  {
   "cell_type": "code",
   "execution_count": 8,
   "id": "c20e94b6",
   "metadata": {},
   "outputs": [
    {
     "data": {
      "text/plain": [
       "74278.70753118733"
      ]
     },
     "execution_count": 8,
     "metadata": {},
     "output_type": "execute_result"
    }
   ],
   "source": [
    "# Compute the median, mean, skewness and Pearson’s skewness of the resulting sample. What fraction of households report \n",
    "# a taxable income below the mean? How do the results depend on the assumed upper bound?\n",
    "\n",
    "# Mean is found with the provided Mean() function\n",
    "\n",
    "Mean(sample)\n"
   ]
  },
  {
   "cell_type": "code",
   "execution_count": 9,
   "id": "1a43d93b",
   "metadata": {},
   "outputs": [
    {
     "data": {
      "text/plain": [
       "4.949920244429583"
      ]
     },
     "execution_count": 9,
     "metadata": {},
     "output_type": "execute_result"
    }
   ],
   "source": [
    "# Skewness is found with the provided Skewness() function\n",
    "\n",
    "Skewness(sample)"
   ]
  },
  {
   "cell_type": "code",
   "execution_count": 17,
   "id": "c12bd0d7",
   "metadata": {},
   "outputs": [
    {
     "data": {
      "text/plain": [
       "51226.93306562372"
      ]
     },
     "execution_count": 17,
     "metadata": {},
     "output_type": "execute_result"
    }
   ],
   "source": [
    "# Median is found with the provided Median() function that I altered to output the desired result\n",
    "\n",
    "Median(sample)"
   ]
  },
  {
   "cell_type": "code",
   "execution_count": 20,
   "id": "698ed5a7",
   "metadata": {},
   "outputs": [
    {
     "data": {
      "text/plain": [
       "0.7361105192428834"
      ]
     },
     "execution_count": 20,
     "metadata": {},
     "output_type": "execute_result"
    }
   ],
   "source": [
    "# Pearson's Skewness is found with the provided PearsonMedianSkewness() function that I altered to output the desired result\n",
    "\n",
    "PearsonMedianSkewness(sample)"
   ]
  },
  {
   "cell_type": "code",
   "execution_count": 22,
   "id": "eb576723",
   "metadata": {},
   "outputs": [
    {
     "data": {
      "text/plain": [
       "0.660005879566872"
      ]
     },
     "execution_count": 22,
     "metadata": {},
     "output_type": "execute_result"
    }
   ],
   "source": [
    "# What fraction of households report a taxable income below the mean?\n",
    "\n",
    "# cdf variable is defined by the Exercise code\n",
    "\n",
    "cdf = thinkstats2.Cdf(sample)\n",
    "\n",
    "# The fraction of household below the mean taxable income reported is found using the \n",
    "# Prob() parameter within the thinkstats2 module\n",
    "\n",
    "cdf.Prob(Mean(sample))"
   ]
  },
  {
   "cell_type": "code",
   "execution_count": 23,
   "id": "cdeeebb8",
   "metadata": {},
   "outputs": [],
   "source": [
    "# How do the results depend on the assumed upper bound?\n",
    "\n",
    "# It is difficult to say how the results depend on the assumed upper bound because while we have established results for the\n",
    "# assumed upper bound of $1 million dollars of annual reported income, the Current Population Survey dataset's highest range\n",
    "# is speicified as \"$250,000 or more.\" We don't know how high \"more\" is, so without that information, there isn't a lot that\n",
    "# can be said for the resulting skewness, mean, median, and Pearson's skewness."
   ]
  }
 ],
 "metadata": {
  "kernelspec": {
   "display_name": "Python 3 (ipykernel)",
   "language": "python",
   "name": "python3"
  },
  "language_info": {
   "codemirror_mode": {
    "name": "ipython",
    "version": 3
   },
   "file_extension": ".py",
   "mimetype": "text/x-python",
   "name": "python",
   "nbconvert_exporter": "python",
   "pygments_lexer": "ipython3",
   "version": "3.11.5"
  }
 },
 "nbformat": 4,
 "nbformat_minor": 5
}
