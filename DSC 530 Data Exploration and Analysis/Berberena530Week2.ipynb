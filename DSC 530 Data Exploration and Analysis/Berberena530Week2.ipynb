{
 "cells": [
  {
   "cell_type": "code",
   "execution_count": 5,
   "id": "3ca130d0",
   "metadata": {},
   "outputs": [
    {
     "name": "stdout",
     "output_type": "stream",
     "text": [
      "Hello World! My name is David Berberena!\n",
      "75\n",
      "25\n",
      "1250\n",
      "2.0\n",
      "PythonRocks\n",
      "['hollow', 'orange', 15, 'bleach']\n",
      "['hollow', 'orange', 15, 'bleach', 'white']\n",
      "('scouter', 7, 'dragon', 3)\n"
     ]
    }
   ],
   "source": [
    "# Jupyter Notebook EDA Preparation Program\n",
    "# DSC 530\n",
    "# Week 2\n",
    "# EDA Assignment Week 2\n",
    "# David Berberena\n",
    "# 12/10/2023\n",
    "\n",
    "# Program Start\n",
    "\n",
    "# Basic print statement is required\n",
    "\n",
    "print('Hello World! My name is David Berberena!')\n",
    "\n",
    "# Variables x and y are defined to represent two numbers that will be manipulated using the four basic math operations\n",
    "\n",
    "x = 50\n",
    "y = 25\n",
    "\n",
    "# Print statements that execute the four basic math operations are needed\n",
    "\n",
    "print(x + y)\n",
    "print(x - y)\n",
    "print(x * y)\n",
    "print(x / y)\n",
    "\n",
    "# Variables a and b are defined to accomplish the concatenation of two strings\n",
    "\n",
    "a = \"Python\"\n",
    "b = \"Rocks\"\n",
    "\n",
    "# Print statement executing the concatenation of these variables is needed\n",
    "\n",
    "print(a + b)\n",
    "\n",
    "# A list of four items needs to be created, which will be stored in a variable\n",
    "\n",
    "random_list = [\"hollow\", \"orange\", 15, \"bleach\"]\n",
    "\n",
    "# Print statement is needed to show the proper creation of the list\n",
    "\n",
    "print(random_list)\n",
    "\n",
    "# A new list item will be defined and stored in a variable to add into the existing list\n",
    "\n",
    "new_item = \"white\"\n",
    "\n",
    "# Append keyword is needed to add the new list item to the end of the current list\n",
    "\n",
    "random_list.append(new_item)\n",
    "\n",
    "# Print statement verifing the appending of the new list item is needed\n",
    "\n",
    "print(random_list)\n",
    "\n",
    "# A tuple of four items needs to be created and stored inside a variable\n",
    "\n",
    "random_tuple = (\"scouter\", 7, \"dragon\", 3)\n",
    "\n",
    "# Print statement is needed to show the proper creation of the tuple\n",
    "\n",
    "print(random_tuple)\n"
   ]
  }
 ],
 "metadata": {
  "kernelspec": {
   "display_name": "Python 3 (ipykernel)",
   "language": "python",
   "name": "python3"
  },
  "language_info": {
   "codemirror_mode": {
    "name": "ipython",
    "version": 3
   },
   "file_extension": ".py",
   "mimetype": "text/x-python",
   "name": "python",
   "nbconvert_exporter": "python",
   "pygments_lexer": "ipython3",
   "version": "3.11.5"
  }
 },
 "nbformat": 4,
 "nbformat_minor": 5
}
