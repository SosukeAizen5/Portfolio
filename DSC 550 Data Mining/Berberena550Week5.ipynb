{
 "cells": [
  {
   "cell_type": "code",
   "execution_count": 1,
   "id": "f546400f",
   "metadata": {},
   "outputs": [],
   "source": [
    "# Build Your Own Sentiment Analysis Model Assignment\n",
    "# DSC 550\n",
    "# Week 5\n",
    "# Data Mining Assignment Week 5\n",
    "# David Berberena\n",
    "# 4/14/2024"
   ]
  },
  {
   "cell_type": "markdown",
   "id": "91dc1520",
   "metadata": {},
   "source": [
    "# Program Start"
   ]
  },
  {
   "cell_type": "markdown",
   "id": "3c6c223d",
   "metadata": {},
   "source": [
    "## 1. Get the stemmed data using the same process you did in Week 3."
   ]
  },
  {
   "cell_type": "code",
   "execution_count": 2,
   "id": "192132c9",
   "metadata": {},
   "outputs": [
    {
     "data": {
      "text/html": [
       "<div>\n",
       "<style scoped>\n",
       "    .dataframe tbody tr th:only-of-type {\n",
       "        vertical-align: middle;\n",
       "    }\n",
       "\n",
       "    .dataframe tbody tr th {\n",
       "        vertical-align: top;\n",
       "    }\n",
       "\n",
       "    .dataframe thead th {\n",
       "        text-align: right;\n",
       "    }\n",
       "</style>\n",
       "<table border=\"1\" class=\"dataframe\">\n",
       "  <thead>\n",
       "    <tr style=\"text-align: right;\">\n",
       "      <th></th>\n",
       "      <th>id</th>\n",
       "      <th>sentiment</th>\n",
       "      <th>review</th>\n",
       "    </tr>\n",
       "  </thead>\n",
       "  <tbody>\n",
       "    <tr>\n",
       "      <th>0</th>\n",
       "      <td>5814_8</td>\n",
       "      <td>1</td>\n",
       "      <td>With all this stuff going down at the moment w...</td>\n",
       "    </tr>\n",
       "    <tr>\n",
       "      <th>1</th>\n",
       "      <td>2381_9</td>\n",
       "      <td>1</td>\n",
       "      <td>\\The Classic War of the Worlds\\\" by Timothy Hi...</td>\n",
       "    </tr>\n",
       "    <tr>\n",
       "      <th>2</th>\n",
       "      <td>7759_3</td>\n",
       "      <td>0</td>\n",
       "      <td>The film starts with a manager (Nicholas Bell)...</td>\n",
       "    </tr>\n",
       "    <tr>\n",
       "      <th>3</th>\n",
       "      <td>3630_4</td>\n",
       "      <td>0</td>\n",
       "      <td>It must be assumed that those who praised this...</td>\n",
       "    </tr>\n",
       "    <tr>\n",
       "      <th>4</th>\n",
       "      <td>9495_8</td>\n",
       "      <td>1</td>\n",
       "      <td>Superbly trashy and wondrously unpretentious 8...</td>\n",
       "    </tr>\n",
       "  </tbody>\n",
       "</table>\n",
       "</div>"
      ],
      "text/plain": [
       "       id  sentiment                                             review\n",
       "0  5814_8          1  With all this stuff going down at the moment w...\n",
       "1  2381_9          1  \\The Classic War of the Worlds\\\" by Timothy Hi...\n",
       "2  7759_3          0  The film starts with a manager (Nicholas Bell)...\n",
       "3  3630_4          0  It must be assumed that those who praised this...\n",
       "4  9495_8          1  Superbly trashy and wondrously unpretentious 8..."
      ]
     },
     "execution_count": 2,
     "metadata": {},
     "output_type": "execute_result"
    }
   ],
   "source": [
    "# To begin, I need to import the needed libraries that yielded the stemmed data from the Week 3 assignment (Pandas for data \n",
    "# manipulation and file reading, and NLTK for stopword deletion and stemming abilities).\n",
    "\n",
    "import pandas as pd\n",
    "from nltk.corpus import stopwords\n",
    "from nltk.stem import PorterStemmer\n",
    "\n",
    "# To import the labeled training dataset properly, I need to add the delimiter argument present in the read_csv() function \n",
    "# and set it to '\\t' to properly read in TSV (tab separated files) files. \n",
    "\n",
    "movie_data = pd.read_csv('labeledTrainData.tsv', delimiter='\\t')\n",
    "\n",
    "# The head() function will be employed here to verify that the data has been loaded in properly.\n",
    "\n",
    "movie_data.head()"
   ]
  },
  {
   "cell_type": "code",
   "execution_count": 3,
   "id": "0a5af606",
   "metadata": {},
   "outputs": [
    {
     "data": {
      "text/html": [
       "<div>\n",
       "<style scoped>\n",
       "    .dataframe tbody tr th:only-of-type {\n",
       "        vertical-align: middle;\n",
       "    }\n",
       "\n",
       "    .dataframe tbody tr th {\n",
       "        vertical-align: top;\n",
       "    }\n",
       "\n",
       "    .dataframe thead th {\n",
       "        text-align: right;\n",
       "    }\n",
       "</style>\n",
       "<table border=\"1\" class=\"dataframe\">\n",
       "  <thead>\n",
       "    <tr style=\"text-align: right;\">\n",
       "      <th></th>\n",
       "      <th>id</th>\n",
       "      <th>sentiment</th>\n",
       "      <th>review</th>\n",
       "    </tr>\n",
       "  </thead>\n",
       "  <tbody>\n",
       "    <tr>\n",
       "      <th>0</th>\n",
       "      <td>5814_8</td>\n",
       "      <td>1</td>\n",
       "      <td>with all this stuff going down at the moment w...</td>\n",
       "    </tr>\n",
       "    <tr>\n",
       "      <th>1</th>\n",
       "      <td>2381_9</td>\n",
       "      <td>1</td>\n",
       "      <td>\\the classic war of the worlds\\\" by timothy hi...</td>\n",
       "    </tr>\n",
       "    <tr>\n",
       "      <th>2</th>\n",
       "      <td>7759_3</td>\n",
       "      <td>0</td>\n",
       "      <td>the film starts with a manager (nicholas bell)...</td>\n",
       "    </tr>\n",
       "    <tr>\n",
       "      <th>3</th>\n",
       "      <td>3630_4</td>\n",
       "      <td>0</td>\n",
       "      <td>it must be assumed that those who praised this...</td>\n",
       "    </tr>\n",
       "    <tr>\n",
       "      <th>4</th>\n",
       "      <td>9495_8</td>\n",
       "      <td>1</td>\n",
       "      <td>superbly trashy and wondrously unpretentious 8...</td>\n",
       "    </tr>\n",
       "  </tbody>\n",
       "</table>\n",
       "</div>"
      ],
      "text/plain": [
       "       id  sentiment                                             review\n",
       "0  5814_8          1  with all this stuff going down at the moment w...\n",
       "1  2381_9          1  \\the classic war of the worlds\\\" by timothy hi...\n",
       "2  7759_3          0  the film starts with a manager (nicholas bell)...\n",
       "3  3630_4          0  it must be assumed that those who praised this...\n",
       "4  9495_8          1  superbly trashy and wondrously unpretentious 8..."
      ]
     },
     "execution_count": 3,
     "metadata": {},
     "output_type": "execute_result"
    }
   ],
   "source": [
    "# To replicate the same stemmed data as in Week 3, I need to make sure that all of the characters in the review variable \n",
    "# are lowercase. The string formatting str.lower() function has the ability to make all text lowercase, so I will be using \n",
    "# this against the review variable.\n",
    "\n",
    "movie_data['review'] = movie_data['review'].str.lower()\n",
    "\n",
    "# The head() function is meant to show the changes made to the data frame.\n",
    "\n",
    "movie_data.head()"
   ]
  },
  {
   "cell_type": "code",
   "execution_count": 4,
   "id": "efabea44",
   "metadata": {},
   "outputs": [
    {
     "data": {
      "text/html": [
       "<div>\n",
       "<style scoped>\n",
       "    .dataframe tbody tr th:only-of-type {\n",
       "        vertical-align: middle;\n",
       "    }\n",
       "\n",
       "    .dataframe tbody tr th {\n",
       "        vertical-align: top;\n",
       "    }\n",
       "\n",
       "    .dataframe thead th {\n",
       "        text-align: right;\n",
       "    }\n",
       "</style>\n",
       "<table border=\"1\" class=\"dataframe\">\n",
       "  <thead>\n",
       "    <tr style=\"text-align: right;\">\n",
       "      <th></th>\n",
       "      <th>id</th>\n",
       "      <th>sentiment</th>\n",
       "      <th>review</th>\n",
       "    </tr>\n",
       "  </thead>\n",
       "  <tbody>\n",
       "    <tr>\n",
       "      <th>0</th>\n",
       "      <td>5814_8</td>\n",
       "      <td>1</td>\n",
       "      <td>with all this stuff going down at the moment w...</td>\n",
       "    </tr>\n",
       "    <tr>\n",
       "      <th>1</th>\n",
       "      <td>2381_9</td>\n",
       "      <td>1</td>\n",
       "      <td>the classic war of the worlds by timothy hines...</td>\n",
       "    </tr>\n",
       "    <tr>\n",
       "      <th>2</th>\n",
       "      <td>7759_3</td>\n",
       "      <td>0</td>\n",
       "      <td>the film starts with a manager nicholas bell g...</td>\n",
       "    </tr>\n",
       "    <tr>\n",
       "      <th>3</th>\n",
       "      <td>3630_4</td>\n",
       "      <td>0</td>\n",
       "      <td>it must be assumed that those who praised this...</td>\n",
       "    </tr>\n",
       "    <tr>\n",
       "      <th>4</th>\n",
       "      <td>9495_8</td>\n",
       "      <td>1</td>\n",
       "      <td>superbly trashy and wondrously unpretentious 8...</td>\n",
       "    </tr>\n",
       "  </tbody>\n",
       "</table>\n",
       "</div>"
      ],
      "text/plain": [
       "       id  sentiment                                             review\n",
       "0  5814_8          1  with all this stuff going down at the moment w...\n",
       "1  2381_9          1  the classic war of the worlds by timothy hines...\n",
       "2  7759_3          0  the film starts with a manager nicholas bell g...\n",
       "3  3630_4          0  it must be assumed that those who praised this...\n",
       "4  9495_8          1  superbly trashy and wondrously unpretentious 8..."
      ]
     },
     "execution_count": 4,
     "metadata": {},
     "output_type": "execute_result"
    }
   ],
   "source": [
    "# Just like in Week 3, I need to remove any special characters and punctuation in the review variable. This step involves \n",
    "# applying a lambda function that checks each review (converted into a string value since it has not been done yet) for \n",
    "# alphanumeric characters (with the isalnum() function) and space characters (using the isspace() function) and keeps them \n",
    "# (removing the remaining punctuation and special characters by default). The lambda function finally joins each review \n",
    "# back together at the whitespaces left by the exclusion of the unwanted characters.\n",
    "\n",
    "movie_data['review'] = movie_data['review'].apply(\n",
    "    lambda review: ''.join(str(character) for character in review if character.isalnum() or character.isspace()))\n",
    "\n",
    "# The head() function is meant to show the changes made to the data frame.\n",
    "\n",
    "movie_data.head()"
   ]
  },
  {
   "cell_type": "code",
   "execution_count": 5,
   "id": "17488715",
   "metadata": {},
   "outputs": [
    {
     "data": {
      "text/html": [
       "<div>\n",
       "<style scoped>\n",
       "    .dataframe tbody tr th:only-of-type {\n",
       "        vertical-align: middle;\n",
       "    }\n",
       "\n",
       "    .dataframe tbody tr th {\n",
       "        vertical-align: top;\n",
       "    }\n",
       "\n",
       "    .dataframe thead th {\n",
       "        text-align: right;\n",
       "    }\n",
       "</style>\n",
       "<table border=\"1\" class=\"dataframe\">\n",
       "  <thead>\n",
       "    <tr style=\"text-align: right;\">\n",
       "      <th></th>\n",
       "      <th>id</th>\n",
       "      <th>sentiment</th>\n",
       "      <th>review</th>\n",
       "    </tr>\n",
       "  </thead>\n",
       "  <tbody>\n",
       "    <tr>\n",
       "      <th>0</th>\n",
       "      <td>5814_8</td>\n",
       "      <td>1</td>\n",
       "      <td>stuff going moment mj ive started listening mu...</td>\n",
       "    </tr>\n",
       "    <tr>\n",
       "      <th>1</th>\n",
       "      <td>2381_9</td>\n",
       "      <td>1</td>\n",
       "      <td>classic war worlds timothy hines entertaining ...</td>\n",
       "    </tr>\n",
       "    <tr>\n",
       "      <th>2</th>\n",
       "      <td>7759_3</td>\n",
       "      <td>0</td>\n",
       "      <td>film starts manager nicholas bell giving welco...</td>\n",
       "    </tr>\n",
       "    <tr>\n",
       "      <th>3</th>\n",
       "      <td>3630_4</td>\n",
       "      <td>0</td>\n",
       "      <td>must assumed praised film greatest filmed oper...</td>\n",
       "    </tr>\n",
       "    <tr>\n",
       "      <th>4</th>\n",
       "      <td>9495_8</td>\n",
       "      <td>1</td>\n",
       "      <td>superbly trashy wondrously unpretentious 80s e...</td>\n",
       "    </tr>\n",
       "  </tbody>\n",
       "</table>\n",
       "</div>"
      ],
      "text/plain": [
       "       id  sentiment                                             review\n",
       "0  5814_8          1  stuff going moment mj ive started listening mu...\n",
       "1  2381_9          1  classic war worlds timothy hines entertaining ...\n",
       "2  7759_3          0  film starts manager nicholas bell giving welco...\n",
       "3  3630_4          0  must assumed praised film greatest filmed oper...\n",
       "4  9495_8          1  superbly trashy wondrously unpretentious 80s e..."
      ]
     },
     "execution_count": 5,
     "metadata": {},
     "output_type": "execute_result"
    }
   ],
   "source": [
    "# Continuing with the replication of Week 3's stemmed data, I need to remove the stopwords within the review variable. \n",
    "# To have access to the stopwords in the English language, I used the words() function in stopwords and specified english \n",
    "# as the language whose stopwords I wish to use and stored those words into a set variable to call on in my function to \n",
    "# remove these stopwords from the review variable. \n",
    "\n",
    "stop_words = set(stopwords.words('english'))\n",
    "\n",
    "# The delete_stopwords() function I made is similar to the lambda function that removed the special characters and \n",
    "# punctuation, except that I encased the code in a recallable function. The function works to split the review into \n",
    "# individual words, analyze them to identify the stopwords and keep the words that are not stopwords, then join the words \n",
    "# to keep with the join() function where the stopwords were deleted. The joined review is returned at the end. \n",
    "\n",
    "def delete_stopwords(review):\n",
    "    kept_words = [word for word in review.split() if word not in stop_words]\n",
    "    return ' '.join(kept_words)\n",
    "\n",
    "# The above function is applied to each review in the review variable with the apply() function.\n",
    "\n",
    "movie_data['review'] = movie_data['review'].apply(delete_stopwords)\n",
    "\n",
    "# The head() function is meant to show the changes made to the data frame.\n",
    "\n",
    "movie_data.head()"
   ]
  },
  {
   "cell_type": "code",
   "execution_count": 6,
   "id": "448cbb38",
   "metadata": {},
   "outputs": [
    {
     "data": {
      "text/html": [
       "<div>\n",
       "<style scoped>\n",
       "    .dataframe tbody tr th:only-of-type {\n",
       "        vertical-align: middle;\n",
       "    }\n",
       "\n",
       "    .dataframe tbody tr th {\n",
       "        vertical-align: top;\n",
       "    }\n",
       "\n",
       "    .dataframe thead th {\n",
       "        text-align: right;\n",
       "    }\n",
       "</style>\n",
       "<table border=\"1\" class=\"dataframe\">\n",
       "  <thead>\n",
       "    <tr style=\"text-align: right;\">\n",
       "      <th></th>\n",
       "      <th>id</th>\n",
       "      <th>sentiment</th>\n",
       "      <th>review</th>\n",
       "    </tr>\n",
       "  </thead>\n",
       "  <tbody>\n",
       "    <tr>\n",
       "      <th>0</th>\n",
       "      <td>5814_8</td>\n",
       "      <td>1</td>\n",
       "      <td>stuff go moment mj ive start listen music watc...</td>\n",
       "    </tr>\n",
       "    <tr>\n",
       "      <th>1</th>\n",
       "      <td>2381_9</td>\n",
       "      <td>1</td>\n",
       "      <td>classic war world timothi hine entertain film ...</td>\n",
       "    </tr>\n",
       "    <tr>\n",
       "      <th>2</th>\n",
       "      <td>7759_3</td>\n",
       "      <td>0</td>\n",
       "      <td>film start manag nichola bell give welcom inve...</td>\n",
       "    </tr>\n",
       "    <tr>\n",
       "      <th>3</th>\n",
       "      <td>3630_4</td>\n",
       "      <td>0</td>\n",
       "      <td>must assum prais film greatest film opera ever...</td>\n",
       "    </tr>\n",
       "    <tr>\n",
       "      <th>4</th>\n",
       "      <td>9495_8</td>\n",
       "      <td>1</td>\n",
       "      <td>superbl trashi wondrous unpretenti 80 exploit ...</td>\n",
       "    </tr>\n",
       "  </tbody>\n",
       "</table>\n",
       "</div>"
      ],
      "text/plain": [
       "       id  sentiment                                             review\n",
       "0  5814_8          1  stuff go moment mj ive start listen music watc...\n",
       "1  2381_9          1  classic war world timothi hine entertain film ...\n",
       "2  7759_3          0  film start manag nichola bell give welcom inve...\n",
       "3  3630_4          0  must assum prais film greatest film opera ever...\n",
       "4  9495_8          1  superbl trashi wondrous unpretenti 80 exploit ..."
      ]
     },
     "execution_count": 6,
     "metadata": {},
     "output_type": "execute_result"
    }
   ],
   "source": [
    "# The final step is to actually stem the data with PorterStemmer(). The function generated here follows the same logic as \n",
    "# the previous function, with the PorterStemmer() function iterating over every word in the review with the split() \n",
    "# function, then the stemmed words are joined back together at the place where they were stemmed.\n",
    "\n",
    "def Porter_Stemming(review):\n",
    "    stemmed_words = [PorterStemmer().stem(word) for word in review.split()]\n",
    "    return ' '.join(stemmed_words)\n",
    "\n",
    "# The above function is applied to each review in the review variable with the apply() function.\n",
    "\n",
    "movie_data['review'] = movie_data['review'].apply(Porter_Stemming)\n",
    "\n",
    "# The head() function is meant to show the changes made to the data frame.\n",
    "\n",
    "movie_data.head()"
   ]
  },
  {
   "cell_type": "markdown",
   "id": "fca12c82",
   "metadata": {},
   "source": [
    "## 2. Split this into a training and test set."
   ]
  },
  {
   "cell_type": "code",
   "execution_count": 7,
   "id": "456197af",
   "metadata": {},
   "outputs": [
    {
     "name": "stdout",
     "output_type": "stream",
     "text": [
      "Training set shape: (20000,)\n",
      "Test set shape: (5000,)\n"
     ]
    }
   ],
   "source": [
    "# This requires the importing of the train_test_split() function from Sci-kitlearn just as Week 4's assignment required.\n",
    "\n",
    "from sklearn.model_selection import train_test_split\n",
    "\n",
    "# I am randomly splitting the data by the same 80-20 ratio as last week's assignment\n",
    "\n",
    "review_train, review_test = train_test_split(movie_data, test_size=0.2, random_state=123)\n",
    "\n",
    "# To show that the review column was split properly, I will print the dimensions of each dataset to see if the 80-20 split \n",
    "# worked as it should. \n",
    "\n",
    "print('Training set shape:', review_train['review'].shape)\n",
    "print('Test set shape:', review_test['review'].shape)"
   ]
  },
  {
   "cell_type": "markdown",
   "id": "6536a3fb",
   "metadata": {},
   "source": [
    "## 3. Fit and apply the tf-idf vectorization to the training set."
   ]
  },
  {
   "cell_type": "code",
   "execution_count": 8,
   "id": "0cc6fe4f",
   "metadata": {},
   "outputs": [
    {
     "name": "stdout",
     "output_type": "stream",
     "text": [
      "The dimensions of the review training set TF-IDF matrix are (20000, 80995)\n"
     ]
    }
   ],
   "source": [
    "# The TFIDFVectorizer function needs to be imported frok Sci=kitlearn to accomplish this task.\n",
    "\n",
    "from sklearn.feature_extraction.text import TfidfVectorizer\n",
    "\n",
    "# For the purposes of this assignment, the TD-IDF vectorization process on the training set is performed so the vectorizer \n",
    "# can learn the vocabulary within the training set and transform the text into vectors by applying the learned logic.\n",
    "\n",
    "vectorizer = TfidfVectorizer()\n",
    "\n",
    "review_train_tfidf = vectorizer.fit_transform(review_train['review'])\n",
    "\n",
    "# The shape() function is used to directly call the dimensions of the matrix that has been created.\n",
    "\n",
    "print(\"The dimensions of the review training set TF-IDF matrix are\", review_train_tfidf.shape)"
   ]
  },
  {
   "cell_type": "markdown",
   "id": "960a3392",
   "metadata": {},
   "source": [
    "## 4. Apply but DO NOT FIT the tf-idf vectorization to the test set (Why?)."
   ]
  },
  {
   "cell_type": "code",
   "execution_count": 9,
   "id": "e5a53bcf",
   "metadata": {},
   "outputs": [
    {
     "name": "stdout",
     "output_type": "stream",
     "text": [
      "The dimensions of the review test set TF-IDF matrix are (5000, 80995)\n"
     ]
    }
   ],
   "source": [
    "# To answer the question of why we would only be applying the TF-IDF vectorizer to the test set and not also be fitting it, \n",
    "# I believe that since we already lesrned the vocabulary from the training set, we need to subject the test set to the \n",
    "# terms only in the training set to make accurate predictions. If we were to fit the test set before applying the \n",
    "# vectorizer, we would end up having the vectorizer learn both the test and training set vocabulary, which would then \n",
    "# introduce all of the vocabulary from both sets to apply to the test set, as opposed to the vocabulary only from the \n",
    "# training set. Overall, if we are to test the test set, only the training set is needed, not the test set itself.\n",
    "\n",
    "# To apply but not fit the TF-IDF vectorizer, we need to use the transform() function and not the fit_transform() function.\n",
    "\n",
    "review_test_tfidf = vectorizer.transform(review_test['review'])\n",
    "\n",
    "# The shape() function is used to directly call the dimensions of the matrix that has been created.\n",
    "\n",
    "print(\"The dimensions of the review test set TF-IDF matrix are\", review_test_tfidf.shape)"
   ]
  },
  {
   "cell_type": "markdown",
   "id": "718b2bc0",
   "metadata": {},
   "source": [
    "## 5. Train a logistic regression using the training data."
   ]
  },
  {
   "cell_type": "code",
   "execution_count": 10,
   "id": "1ccc8d5d",
   "metadata": {},
   "outputs": [
    {
     "data": {
      "text/html": [
       "<style>#sk-container-id-1 {color: black;}#sk-container-id-1 pre{padding: 0;}#sk-container-id-1 div.sk-toggleable {background-color: white;}#sk-container-id-1 label.sk-toggleable__label {cursor: pointer;display: block;width: 100%;margin-bottom: 0;padding: 0.3em;box-sizing: border-box;text-align: center;}#sk-container-id-1 label.sk-toggleable__label-arrow:before {content: \"▸\";float: left;margin-right: 0.25em;color: #696969;}#sk-container-id-1 label.sk-toggleable__label-arrow:hover:before {color: black;}#sk-container-id-1 div.sk-estimator:hover label.sk-toggleable__label-arrow:before {color: black;}#sk-container-id-1 div.sk-toggleable__content {max-height: 0;max-width: 0;overflow: hidden;text-align: left;background-color: #f0f8ff;}#sk-container-id-1 div.sk-toggleable__content pre {margin: 0.2em;color: black;border-radius: 0.25em;background-color: #f0f8ff;}#sk-container-id-1 input.sk-toggleable__control:checked~div.sk-toggleable__content {max-height: 200px;max-width: 100%;overflow: auto;}#sk-container-id-1 input.sk-toggleable__control:checked~label.sk-toggleable__label-arrow:before {content: \"▾\";}#sk-container-id-1 div.sk-estimator input.sk-toggleable__control:checked~label.sk-toggleable__label {background-color: #d4ebff;}#sk-container-id-1 div.sk-label input.sk-toggleable__control:checked~label.sk-toggleable__label {background-color: #d4ebff;}#sk-container-id-1 input.sk-hidden--visually {border: 0;clip: rect(1px 1px 1px 1px);clip: rect(1px, 1px, 1px, 1px);height: 1px;margin: -1px;overflow: hidden;padding: 0;position: absolute;width: 1px;}#sk-container-id-1 div.sk-estimator {font-family: monospace;background-color: #f0f8ff;border: 1px dotted black;border-radius: 0.25em;box-sizing: border-box;margin-bottom: 0.5em;}#sk-container-id-1 div.sk-estimator:hover {background-color: #d4ebff;}#sk-container-id-1 div.sk-parallel-item::after {content: \"\";width: 100%;border-bottom: 1px solid gray;flex-grow: 1;}#sk-container-id-1 div.sk-label:hover label.sk-toggleable__label {background-color: #d4ebff;}#sk-container-id-1 div.sk-serial::before {content: \"\";position: absolute;border-left: 1px solid gray;box-sizing: border-box;top: 0;bottom: 0;left: 50%;z-index: 0;}#sk-container-id-1 div.sk-serial {display: flex;flex-direction: column;align-items: center;background-color: white;padding-right: 0.2em;padding-left: 0.2em;position: relative;}#sk-container-id-1 div.sk-item {position: relative;z-index: 1;}#sk-container-id-1 div.sk-parallel {display: flex;align-items: stretch;justify-content: center;background-color: white;position: relative;}#sk-container-id-1 div.sk-item::before, #sk-container-id-1 div.sk-parallel-item::before {content: \"\";position: absolute;border-left: 1px solid gray;box-sizing: border-box;top: 0;bottom: 0;left: 50%;z-index: -1;}#sk-container-id-1 div.sk-parallel-item {display: flex;flex-direction: column;z-index: 1;position: relative;background-color: white;}#sk-container-id-1 div.sk-parallel-item:first-child::after {align-self: flex-end;width: 50%;}#sk-container-id-1 div.sk-parallel-item:last-child::after {align-self: flex-start;width: 50%;}#sk-container-id-1 div.sk-parallel-item:only-child::after {width: 0;}#sk-container-id-1 div.sk-dashed-wrapped {border: 1px dashed gray;margin: 0 0.4em 0.5em 0.4em;box-sizing: border-box;padding-bottom: 0.4em;background-color: white;}#sk-container-id-1 div.sk-label label {font-family: monospace;font-weight: bold;display: inline-block;line-height: 1.2em;}#sk-container-id-1 div.sk-label-container {text-align: center;}#sk-container-id-1 div.sk-container {/* jupyter's `normalize.less` sets `[hidden] { display: none; }` but bootstrap.min.css set `[hidden] { display: none !important; }` so we also need the `!important` here to be able to override the default hidden behavior on the sphinx rendered scikit-learn.org. See: https://github.com/scikit-learn/scikit-learn/issues/21755 */display: inline-block !important;position: relative;}#sk-container-id-1 div.sk-text-repr-fallback {display: none;}</style><div id=\"sk-container-id-1\" class=\"sk-top-container\"><div class=\"sk-text-repr-fallback\"><pre>LogisticRegression()</pre><b>In a Jupyter environment, please rerun this cell to show the HTML representation or trust the notebook. <br />On GitHub, the HTML representation is unable to render, please try loading this page with nbviewer.org.</b></div><div class=\"sk-container\" hidden><div class=\"sk-item\"><div class=\"sk-estimator sk-toggleable\"><input class=\"sk-toggleable__control sk-hidden--visually\" id=\"sk-estimator-id-1\" type=\"checkbox\" checked><label for=\"sk-estimator-id-1\" class=\"sk-toggleable__label sk-toggleable__label-arrow\">LogisticRegression</label><div class=\"sk-toggleable__content\"><pre>LogisticRegression()</pre></div></div></div></div></div>"
      ],
      "text/plain": [
       "LogisticRegression()"
      ]
     },
     "execution_count": 10,
     "metadata": {},
     "output_type": "execute_result"
    }
   ],
   "source": [
    "# To create a logistic regression model, the LogisticRegression() function from Sci-kitlearn is needed.\n",
    "\n",
    "from sklearn.linear_model import LogisticRegression\n",
    "\n",
    "# Now the training data can be placed into a logistic regression model using the LogisticRegression() function. To attach \n",
    "# the correct amount of labels to the vectorizer, I am using the to_list() function to find all labels assigned to the \n",
    "# vectors and store them as a list for access during the logistic regression model creation. \n",
    "\n",
    "review_logit_model = LogisticRegression()\n",
    "\n",
    "review_logit_model.fit(review_train_tfidf, review_train['sentiment'])"
   ]
  },
  {
   "cell_type": "markdown",
   "id": "fe6b761d",
   "metadata": {},
   "source": [
    "## 6. Find the model accuracy on test set."
   ]
  },
  {
   "cell_type": "code",
   "execution_count": 11,
   "id": "9e1b34b8",
   "metadata": {},
   "outputs": [
    {
     "name": "stdout",
     "output_type": "stream",
     "text": [
      "The accuracy of the logistic regression model is: 0.8874\n"
     ]
    }
   ],
   "source": [
    "# To find the accuracy of the logistic regression model, the metrics class of Sci-kitlearn has an accuracy_score() function.\n",
    "\n",
    "from sklearn.metrics import accuracy_score\n",
    "\n",
    "# To create predictions for the logistic regression model, I will need to use the predict() on the test TDIDF data.\n",
    "\n",
    "predictions = review_logit_model.predict(review_test_tfidf)\n",
    "\n",
    "# To use the accuracy_score() function, I am testing the review_test sentiment column against the predictions generated \n",
    "# from the test set vectorizer.\n",
    "\n",
    "logit_accuracy = accuracy_score(review_test['sentiment'], predictions)\n",
    "\n",
    "print('The accuracy of the logistic regression model is:', logit_accuracy)"
   ]
  },
  {
   "cell_type": "markdown",
   "id": "65c41126",
   "metadata": {},
   "source": [
    "## 7. Create a confusion matrix for the test set predictions."
   ]
  },
  {
   "cell_type": "code",
   "execution_count": 12,
   "id": "1d194159",
   "metadata": {},
   "outputs": [
    {
     "name": "stdout",
     "output_type": "stream",
     "text": [
      "Confusion Matrix for Test Set Predictions\n",
      "[[2156  312]\n",
      " [ 251 2281]]\n"
     ]
    }
   ],
   "source": [
    "# The confusion matrix can be generated by accessing yet another one of Scikit-learn's functions: confusion_matrix().\n",
    "\n",
    "from sklearn.metrics import confusion_matrix\n",
    "\n",
    "sentiment_test_confusion_matrix = confusion_matrix(review_test['sentiment'], predictions)\n",
    "\n",
    "print('Confusion Matrix for Test Set Predictions')\n",
    "print(sentiment_test_confusion_matrix)"
   ]
  },
  {
   "cell_type": "markdown",
   "id": "0de1c0ef",
   "metadata": {},
   "source": [
    "## 8. Get the precision, recall, and F1-score for the test set predictions."
   ]
  },
  {
   "cell_type": "code",
   "execution_count": 13,
   "id": "1d12bc93",
   "metadata": {},
   "outputs": [
    {
     "name": "stdout",
     "output_type": "stream",
     "text": [
      "Additional Test Set Prediction Scores\n",
      "Precision: 0.8796760509062862\n",
      "Recall: 0.90086887835703\n",
      "F1-Score: 0.8901463414634146\n"
     ]
    }
   ],
   "source": [
    "# For the precision, recall, and F-1 score statsistics, I can access the indices of the confusion matrix and store the \n",
    "# values into variables which I can then use to calculate each metric using their individual formulas.\n",
    "\n",
    "true_pos = sentiment_test_confusion_matrix[1, 1]\n",
    "true_neg = sentiment_test_confusion_matrix[0, 0]\n",
    "false_pos = sentiment_test_confusion_matrix[0, 1]  \n",
    "false_neg = sentiment_test_confusion_matrix[1, 0]\n",
    "\n",
    "precision = true_pos / (true_pos + false_pos)\n",
    "\n",
    "recall = true_pos / (true_pos + false_neg)\n",
    "\n",
    "f1_score = 2 * (precision * recall) / (precision + recall)\n",
    "\n",
    "print('Additional Test Set Prediction Scores')\n",
    "print(\"Precision:\", precision)\n",
    "print(\"Recall:\", recall)\n",
    "print(\"F1-Score:\", f1_score)"
   ]
  },
  {
   "cell_type": "markdown",
   "id": "128df32c",
   "metadata": {},
   "source": [
    "## 9. Create a ROC curve for the test set."
   ]
  },
  {
   "cell_type": "code",
   "execution_count": 14,
   "id": "695ce737",
   "metadata": {},
   "outputs": [
    {
     "data": {
      "image/png": "[encoded data removed]",
      "text/plain": [
       "<Figure size 640x480 with 1 Axes>"
      ]
     },
     "metadata": {},
     "output_type": "display_data"
    }
   ],
   "source": [
    "# To generate the ROC curve for the test set, Sci-kitlearn contains the roc_curve() and auc()) functions that are imported. \n",
    "\n",
    "from sklearn.metrics import roc_curve, auc\n",
    "\n",
    "# To use the roc_curve() function, I will be using the predict_proba() function from the LogisticRegression class imported  \n",
    "# earlier to store the predicted probabilities from the test set TF-IDF vectors. Then only the positive predicted \n",
    "# probabilities will be stored into a variable for the roc_curve() function to use in its generation.\n",
    "\n",
    "predicted_probabilities = review_logit_model.predict_proba(review_test_tfidf)\n",
    "\n",
    "pos_probs = predicted_probabilities[:, 1]\n",
    "\n",
    "f_pos_rate, t_pos_rate, thresholds = roc_curve(review_test['sentiment'], pos_probs)\n",
    "roc_auc = auc(f_pos_rate, t_pos_rate)\n",
    "\n",
    "# To graph the ROC curve, I will be importing Matplotlib.\n",
    "\n",
    "import matplotlib.pyplot as plt\n",
    "\n",
    "plt.plot(f_pos_rate, t_pos_rate)\n",
    "plt.xlabel('False Positive Rate')\n",
    "plt.ylabel('True Positive Rate')\n",
    "plt.title('Receiver Operating Characteristic (ROC) Curve of Review Sentiment Test Set')\n",
    "plt.show()"
   ]
  },
  {
   "cell_type": "markdown",
   "id": "60724955",
   "metadata": {},
   "source": [
    "## 10. Pick another classification model you learned about this week and repeat steps (5) – (9)."
   ]
  },
  {
   "cell_type": "code",
   "execution_count": 15,
   "id": "8aa2f3c5",
   "metadata": {},
   "outputs": [
    {
     "data": {
      "text/html": [
       "<style>#sk-container-id-2 {color: black;}#sk-container-id-2 pre{padding: 0;}#sk-container-id-2 div.sk-toggleable {background-color: white;}#sk-container-id-2 label.sk-toggleable__label {cursor: pointer;display: block;width: 100%;margin-bottom: 0;padding: 0.3em;box-sizing: border-box;text-align: center;}#sk-container-id-2 label.sk-toggleable__label-arrow:before {content: \"▸\";float: left;margin-right: 0.25em;color: #696969;}#sk-container-id-2 label.sk-toggleable__label-arrow:hover:before {color: black;}#sk-container-id-2 div.sk-estimator:hover label.sk-toggleable__label-arrow:before {color: black;}#sk-container-id-2 div.sk-toggleable__content {max-height: 0;max-width: 0;overflow: hidden;text-align: left;background-color: #f0f8ff;}#sk-container-id-2 div.sk-toggleable__content pre {margin: 0.2em;color: black;border-radius: 0.25em;background-color: #f0f8ff;}#sk-container-id-2 input.sk-toggleable__control:checked~div.sk-toggleable__content {max-height: 200px;max-width: 100%;overflow: auto;}#sk-container-id-2 input.sk-toggleable__control:checked~label.sk-toggleable__label-arrow:before {content: \"▾\";}#sk-container-id-2 div.sk-estimator input.sk-toggleable__control:checked~label.sk-toggleable__label {background-color: #d4ebff;}#sk-container-id-2 div.sk-label input.sk-toggleable__control:checked~label.sk-toggleable__label {background-color: #d4ebff;}#sk-container-id-2 input.sk-hidden--visually {border: 0;clip: rect(1px 1px 1px 1px);clip: rect(1px, 1px, 1px, 1px);height: 1px;margin: -1px;overflow: hidden;padding: 0;position: absolute;width: 1px;}#sk-container-id-2 div.sk-estimator {font-family: monospace;background-color: #f0f8ff;border: 1px dotted black;border-radius: 0.25em;box-sizing: border-box;margin-bottom: 0.5em;}#sk-container-id-2 div.sk-estimator:hover {background-color: #d4ebff;}#sk-container-id-2 div.sk-parallel-item::after {content: \"\";width: 100%;border-bottom: 1px solid gray;flex-grow: 1;}#sk-container-id-2 div.sk-label:hover label.sk-toggleable__label {background-color: #d4ebff;}#sk-container-id-2 div.sk-serial::before {content: \"\";position: absolute;border-left: 1px solid gray;box-sizing: border-box;top: 0;bottom: 0;left: 50%;z-index: 0;}#sk-container-id-2 div.sk-serial {display: flex;flex-direction: column;align-items: center;background-color: white;padding-right: 0.2em;padding-left: 0.2em;position: relative;}#sk-container-id-2 div.sk-item {position: relative;z-index: 1;}#sk-container-id-2 div.sk-parallel {display: flex;align-items: stretch;justify-content: center;background-color: white;position: relative;}#sk-container-id-2 div.sk-item::before, #sk-container-id-2 div.sk-parallel-item::before {content: \"\";position: absolute;border-left: 1px solid gray;box-sizing: border-box;top: 0;bottom: 0;left: 50%;z-index: -1;}#sk-container-id-2 div.sk-parallel-item {display: flex;flex-direction: column;z-index: 1;position: relative;background-color: white;}#sk-container-id-2 div.sk-parallel-item:first-child::after {align-self: flex-end;width: 50%;}#sk-container-id-2 div.sk-parallel-item:last-child::after {align-self: flex-start;width: 50%;}#sk-container-id-2 div.sk-parallel-item:only-child::after {width: 0;}#sk-container-id-2 div.sk-dashed-wrapped {border: 1px dashed gray;margin: 0 0.4em 0.5em 0.4em;box-sizing: border-box;padding-bottom: 0.4em;background-color: white;}#sk-container-id-2 div.sk-label label {font-family: monospace;font-weight: bold;display: inline-block;line-height: 1.2em;}#sk-container-id-2 div.sk-label-container {text-align: center;}#sk-container-id-2 div.sk-container {/* jupyter's `normalize.less` sets `[hidden] { display: none; }` but bootstrap.min.css set `[hidden] { display: none !important; }` so we also need the `!important` here to be able to override the default hidden behavior on the sphinx rendered scikit-learn.org. See: https://github.com/scikit-learn/scikit-learn/issues/21755 */display: inline-block !important;position: relative;}#sk-container-id-2 div.sk-text-repr-fallback {display: none;}</style><div id=\"sk-container-id-2\" class=\"sk-top-container\"><div class=\"sk-text-repr-fallback\"><pre>KNeighborsClassifier()</pre><b>In a Jupyter environment, please rerun this cell to show the HTML representation or trust the notebook. <br />On GitHub, the HTML representation is unable to render, please try loading this page with nbviewer.org.</b></div><div class=\"sk-container\" hidden><div class=\"sk-item\"><div class=\"sk-estimator sk-toggleable\"><input class=\"sk-toggleable__control sk-hidden--visually\" id=\"sk-estimator-id-2\" type=\"checkbox\" checked><label for=\"sk-estimator-id-2\" class=\"sk-toggleable__label sk-toggleable__label-arrow\">KNeighborsClassifier</label><div class=\"sk-toggleable__content\"><pre>KNeighborsClassifier()</pre></div></div></div></div></div>"
      ],
      "text/plain": [
       "KNeighborsClassifier()"
      ]
     },
     "execution_count": 15,
     "metadata": {},
     "output_type": "execute_result"
    }
   ],
   "source": [
    "# I have decided to use the K-Nearest Neighbors classification model, which can be accessed from the Scikit-learn library. \n",
    "\n",
    "from sklearn.neighbors import KNeighborsClassifier\n",
    "\n",
    "knn_review_model = KNeighborsClassifier()\n",
    "\n",
    "knn_review_model.fit(review_train_tfidf, review_train['sentiment'])"
   ]
  },
  {
   "cell_type": "code",
   "execution_count": 16,
   "id": "01f5c71d",
   "metadata": {},
   "outputs": [
    {
     "name": "stdout",
     "output_type": "stream",
     "text": [
      "The accuracy of the K-Nearest Neighbor classification model is: 0.782\n"
     ]
    }
   ],
   "source": [
    "# Now to find the accuracy score from the KNN classifier model\n",
    "\n",
    "# To create predictions for the logistic regression model, I will need to use the predict() on the test TDIDF data.\n",
    "\n",
    "knn_predictions = knn_review_model.predict(review_test_tfidf)\n",
    "\n",
    "# To use the accuracy_score() function, I am testing the review_test sentiment column against the predictions generated \n",
    "# from the test set vectorizer.\n",
    "\n",
    "knn_accuracy = accuracy_score(review_test['sentiment'], knn_predictions)\n",
    "\n",
    "print('The accuracy of the K-Nearest Neighbor classification model is:', knn_accuracy)"
   ]
  },
  {
   "cell_type": "code",
   "execution_count": 17,
   "id": "b0dd9c63",
   "metadata": {},
   "outputs": [
    {
     "name": "stdout",
     "output_type": "stream",
     "text": [
      "Confusion Matrix for the KNN Test Set Predictions\n",
      "[[1789  679]\n",
      " [ 411 2121]]\n"
     ]
    }
   ],
   "source": [
    "# Next is the confusion matrix for the KNN test set predictions.\n",
    "\n",
    "knn_test_confusion_matrix = confusion_matrix(review_test['sentiment'], knn_predictions)\n",
    "\n",
    "print('Confusion Matrix for the KNN Test Set Predictions')\n",
    "print(knn_test_confusion_matrix)"
   ]
  },
  {
   "cell_type": "code",
   "execution_count": 18,
   "id": "1e0a95bb",
   "metadata": {},
   "outputs": [
    {
     "name": "stdout",
     "output_type": "stream",
     "text": [
      "Additional KNN Test Set Prediction Scores\n",
      "Precision: 0.7575\n",
      "Recall: 0.8376777251184834\n",
      "F1-Score: 0.7955738934733683\n"
     ]
    }
   ],
   "source": [
    "# The precision, recall, and F-1 score metrics need to be calculated next. \n",
    "\n",
    "knn_true_pos = knn_test_confusion_matrix[1, 1]\n",
    "knn_true_neg = knn_test_confusion_matrix[0, 0]\n",
    "knn_false_pos = knn_test_confusion_matrix[0, 1]  \n",
    "knn_false_neg = knn_test_confusion_matrix[1, 0]\n",
    "\n",
    "knn_precision = knn_true_pos / (knn_true_pos + knn_false_pos)\n",
    "\n",
    "knn_recall = knn_true_pos / (knn_true_pos + knn_false_neg)\n",
    "\n",
    "knn_f1_score = 2 * (knn_precision * knn_recall) / (knn_precision + knn_recall)\n",
    "\n",
    "print('Additional KNN Test Set Prediction Scores')\n",
    "print(\"Precision:\", knn_precision)\n",
    "print(\"Recall:\", knn_recall)\n",
    "print(\"F1-Score:\", knn_f1_score)"
   ]
  },
  {
   "cell_type": "code",
   "execution_count": 19,
   "id": "da9b9ee3",
   "metadata": {},
   "outputs": [
    {
     "data": {
      "image/png": "[encoded data removed]",
      "text/plain": [
       "<Figure size 640x480 with 1 Axes>"
      ]
     },
     "metadata": {},
     "output_type": "display_data"
    }
   ],
   "source": [
    "# The final criteria needed for the KNN classifier model is the ROC curve.\n",
    "\n",
    "knn_predicted_probs = knn_review_model.predict_proba(review_test_tfidf)\n",
    "\n",
    "knn_pos_probs = knn_predicted_probs[:, 1]\n",
    "\n",
    "knn_fpr, knn_tpr, knn_thresholds = roc_curve(review_test['sentiment'], knn_pos_probs)\n",
    "knn_roc_auc = auc(knn_fpr, knn_tpr)\n",
    "\n",
    "plt.plot(knn_fpr, knn_tpr)\n",
    "plt.xlabel('KNN False Positive Rate')\n",
    "plt.ylabel('KNN True Positive Rate')\n",
    "plt.title('KNN Classifier Model Receiver Operating Characteristic (ROC) Curve of Review Sentiment Test Set')\n",
    "plt.show()"
   ]
  }
 ],
 "metadata": {
  "kernelspec": {
   "display_name": "Python 3 (ipykernel)",
   "language": "python",
   "name": "python3"
  },
  "language_info": {
   "codemirror_mode": {
    "name": "ipython",
    "version": 3
   },
   "file_extension": ".py",
   "mimetype": "text/x-python",
   "name": "python",
   "nbconvert_exporter": "python",
   "pygments_lexer": "ipython3",
   "version": "3.11.5"
  }
 },
 "nbformat": 4,
 "nbformat_minor": 5
}
