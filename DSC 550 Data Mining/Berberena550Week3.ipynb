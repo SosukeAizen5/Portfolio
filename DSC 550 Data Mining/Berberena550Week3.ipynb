{
 "cells": [
  {
   "cell_type": "code",
   "execution_count": null,
   "id": "04c559a5",
   "metadata": {},
   "outputs": [],
   "source": [
    "# Sentiment Analysis Assignment\n",
    "# DSC 550\n",
    "# Week 3\n",
    "# Data Mining Assignment Week 3\n",
    "# David Berberena\n",
    "# 3/31/2024"
   ]
  },
  {
   "cell_type": "markdown",
   "id": "de013678",
   "metadata": {},
   "source": [
    "# Program Start"
   ]
  },
  {
   "cell_type": "markdown",
   "id": "81c9d226",
   "metadata": {},
   "source": [
    "## Part 1: Using the TextBlob Sentiment Analyzer"
   ]
  },
  {
   "cell_type": "markdown",
   "id": "81b49683",
   "metadata": {},
   "source": [
    "### 1. Import the movie review data as a data frame and ensure that the data is loaded properly."
   ]
  },
  {
   "cell_type": "code",
   "execution_count": 9,
   "id": "075f6593",
   "metadata": {},
   "outputs": [
    {
     "data": {
      "text/html": [
       "<div>\n",
       "<style scoped>\n",
       "    .dataframe tbody tr th:only-of-type {\n",
       "        vertical-align: middle;\n",
       "    }\n",
       "\n",
       "    .dataframe tbody tr th {\n",
       "        vertical-align: top;\n",
       "    }\n",
       "\n",
       "    .dataframe thead th {\n",
       "        text-align: right;\n",
       "    }\n",
       "</style>\n",
       "<table border=\"1\" class=\"dataframe\">\n",
       "  <thead>\n",
       "    <tr style=\"text-align: right;\">\n",
       "      <th></th>\n",
       "      <th>id</th>\n",
       "      <th>sentiment</th>\n",
       "      <th>review</th>\n",
       "    </tr>\n",
       "  </thead>\n",
       "  <tbody>\n",
       "    <tr>\n",
       "      <th>0</th>\n",
       "      <td>5814_8</td>\n",
       "      <td>1</td>\n",
       "      <td>With all this stuff going down at the moment w...</td>\n",
       "    </tr>\n",
       "    <tr>\n",
       "      <th>1</th>\n",
       "      <td>2381_9</td>\n",
       "      <td>1</td>\n",
       "      <td>\\The Classic War of the Worlds\\\" by Timothy Hi...</td>\n",
       "    </tr>\n",
       "    <tr>\n",
       "      <th>2</th>\n",
       "      <td>7759_3</td>\n",
       "      <td>0</td>\n",
       "      <td>The film starts with a manager (Nicholas Bell)...</td>\n",
       "    </tr>\n",
       "    <tr>\n",
       "      <th>3</th>\n",
       "      <td>3630_4</td>\n",
       "      <td>0</td>\n",
       "      <td>It must be assumed that those who praised this...</td>\n",
       "    </tr>\n",
       "    <tr>\n",
       "      <th>4</th>\n",
       "      <td>9495_8</td>\n",
       "      <td>1</td>\n",
       "      <td>Superbly trashy and wondrously unpretentious 8...</td>\n",
       "    </tr>\n",
       "  </tbody>\n",
       "</table>\n",
       "</div>"
      ],
      "text/plain": [
       "       id  sentiment                                             review\n",
       "0  5814_8          1  With all this stuff going down at the moment w...\n",
       "1  2381_9          1  \\The Classic War of the Worlds\\\" by Timothy Hi...\n",
       "2  7759_3          0  The film starts with a manager (Nicholas Bell)...\n",
       "3  3630_4          0  It must be assumed that those who praised this...\n",
       "4  9495_8          1  Superbly trashy and wondrously unpretentious 8..."
      ]
     },
     "execution_count": 9,
     "metadata": {},
     "output_type": "execute_result"
    }
   ],
   "source": [
    "# The libraries needed for Part 1 are Pandas (data importation/manipulation) and textblob (sentiment analyzer).\n",
    "\n",
    "import pandas as pd\n",
    "from textblob import TextBlob\n",
    "\n",
    "# To import the labeled training dataset properly, I need to add the delimiter argument present in the read_csv() function \n",
    "# and set it to '\\t' to properly read in TSV (tab separated files) files. \n",
    "\n",
    "movie_data = pd.read_csv('labeledTrainData.tsv', delimiter='\\t')\n",
    "\n",
    "# The head() function will be employed here to verify that the data has been loaded in properly.\n",
    "\n",
    "movie_data.head()"
   ]
  },
  {
   "cell_type": "markdown",
   "id": "b9903ffa",
   "metadata": {},
   "source": [
    "### 2. How many of each positive and negative reviews are there?"
   ]
  },
  {
   "cell_type": "code",
   "execution_count": 12,
   "id": "af63b8a5",
   "metadata": {},
   "outputs": [
    {
     "name": "stdout",
     "output_type": "stream",
     "text": [
      "Total number of positive reviews: 12500\n",
      "Total number of negative reviews: 12500\n"
     ]
    }
   ],
   "source": [
    "# Looking at the sentiment variable column allows me to see two observations: 1 (I am assuming that this means positive) \n",
    "# and 0 (I am assuming this to be negative). I will use the value.counts() function to count each unique value and total \n",
    "# them and print the results by calling the unique values.\n",
    "\n",
    "review_counts = movie_data['sentiment'].value_counts()\n",
    "\n",
    "print('Total number of positive reviews:', review_counts[1])\n",
    "print('Total number of negative reviews:', review_counts[0])"
   ]
  },
  {
   "cell_type": "markdown",
   "id": "a12be900",
   "metadata": {},
   "source": [
    "### 3. Use TextBlob to classify each movie review as positive or negative. Assume that a polarity score greater than or equal to zero is a positive sentiment and less than 0 is a negative sentiment."
   ]
  },
  {
   "cell_type": "code",
   "execution_count": 22,
   "id": "e04d9ca0",
   "metadata": {},
   "outputs": [
    {
     "data": {
      "text/html": [
       "<div>\n",
       "<style scoped>\n",
       "    .dataframe tbody tr th:only-of-type {\n",
       "        vertical-align: middle;\n",
       "    }\n",
       "\n",
       "    .dataframe tbody tr th {\n",
       "        vertical-align: top;\n",
       "    }\n",
       "\n",
       "    .dataframe thead th {\n",
       "        text-align: right;\n",
       "    }\n",
       "</style>\n",
       "<table border=\"1\" class=\"dataframe\">\n",
       "  <thead>\n",
       "    <tr style=\"text-align: right;\">\n",
       "      <th></th>\n",
       "      <th>id</th>\n",
       "      <th>sentiment</th>\n",
       "      <th>review</th>\n",
       "      <th>new_sentiment</th>\n",
       "    </tr>\n",
       "  </thead>\n",
       "  <tbody>\n",
       "    <tr>\n",
       "      <th>0</th>\n",
       "      <td>5814_8</td>\n",
       "      <td>Positive</td>\n",
       "      <td>With all this stuff going down at the moment w...</td>\n",
       "      <td>Positive</td>\n",
       "    </tr>\n",
       "    <tr>\n",
       "      <th>1</th>\n",
       "      <td>2381_9</td>\n",
       "      <td>Positive</td>\n",
       "      <td>\\The Classic War of the Worlds\\\" by Timothy Hi...</td>\n",
       "      <td>Positive</td>\n",
       "    </tr>\n",
       "    <tr>\n",
       "      <th>2</th>\n",
       "      <td>7759_3</td>\n",
       "      <td>Negative</td>\n",
       "      <td>The film starts with a manager (Nicholas Bell)...</td>\n",
       "      <td>Negative</td>\n",
       "    </tr>\n",
       "    <tr>\n",
       "      <th>3</th>\n",
       "      <td>3630_4</td>\n",
       "      <td>Positive</td>\n",
       "      <td>It must be assumed that those who praised this...</td>\n",
       "      <td>Positive</td>\n",
       "    </tr>\n",
       "    <tr>\n",
       "      <th>4</th>\n",
       "      <td>9495_8</td>\n",
       "      <td>Negative</td>\n",
       "      <td>Superbly trashy and wondrously unpretentious 8...</td>\n",
       "      <td>Negative</td>\n",
       "    </tr>\n",
       "  </tbody>\n",
       "</table>\n",
       "</div>"
      ],
      "text/plain": [
       "       id sentiment                                             review  \\\n",
       "0  5814_8  Positive  With all this stuff going down at the moment w...   \n",
       "1  2381_9  Positive  \\The Classic War of the Worlds\\\" by Timothy Hi...   \n",
       "2  7759_3  Negative  The film starts with a manager (Nicholas Bell)...   \n",
       "3  3630_4  Positive  It must be assumed that those who praised this...   \n",
       "4  9495_8  Negative  Superbly trashy and wondrously unpretentious 8...   \n",
       "\n",
       "  new_sentiment  \n",
       "0      Positive  \n",
       "1      Positive  \n",
       "2      Negative  \n",
       "3      Positive  \n",
       "4      Negative  "
      ]
     },
     "execution_count": 22,
     "metadata": {},
     "output_type": "execute_result"
    }
   ],
   "source": [
    "# In order to use the TextBlob() function on every review in the movie_data data frame, I placed the needed code in a \n",
    "# function that I will apply using the apply() function. The classify_review_sentiment() function I have created takes a \n",
    "# review as an argument, converts that review into a string (if it has not already been done), and runs the TextBlob() \n",
    "# function on that review. The TextBlob() function calculates the polarity metric, which is called through dot notation. \n",
    "# The polarity of the review is then classified as either positive or negative based on its value with the help of the \n",
    "# if-else conditional statement.\n",
    "\n",
    "def classify_review_sentiment(review):\n",
    "    review_analysis = TextBlob(str(review))\n",
    "    polarity = review_analysis.sentiment.polarity\n",
    "    if polarity >= 0:\n",
    "        return 'Positive'\n",
    "    else:\n",
    "        return 'Negative'\n",
    "    \n",
    "# The classify_review_sentiment() function is applied here to the review column in the movie_data data frame, which the \n",
    "# results overwriting the previous sentiment column. \n",
    "\n",
    "movie_data['new_sentiment'] = movie_data['review'].apply(classify_review_sentiment)\n",
    "\n",
    "# The head() function is meant to show the changes made to the data frame.\n",
    "\n",
    "movie_data.head()"
   ]
  },
  {
   "cell_type": "code",
   "execution_count": 23,
   "id": "92992369",
   "metadata": {},
   "outputs": [
    {
     "name": "stdout",
     "output_type": "stream",
     "text": [
      "Total number of new positive reviews: 19017\n",
      "Total number of new negative reviews: 5983\n"
     ]
    }
   ],
   "source": [
    "# Now to realize the number of positive and negative reviews found by TextBlob, I will again use the same value.counts() \n",
    "# function and print out how many reviews were positive and how many were negative. \n",
    "\n",
    "new_review_counts = movie_data['new_sentiment'].value_counts()\n",
    "\n",
    "print('Total number of new positive reviews:', new_review_counts['Positive'])\n",
    "print('Total number of new negative reviews:', new_review_counts['Negative'])"
   ]
  },
  {
   "cell_type": "markdown",
   "id": "1b500f0e",
   "metadata": {},
   "source": [
    "### 4. Check the accuracy of this model. Is this model better than random guessing?"
   ]
  },
  {
   "cell_type": "code",
   "execution_count": 27,
   "id": "7af05cb6",
   "metadata": {},
   "outputs": [
    {
     "name": "stdout",
     "output_type": "stream",
     "text": [
      "Accuracy: 1.0\n"
     ]
    }
   ],
   "source": [
    "# To check the accuracy of the sentiment analysis, I did some research on how to do this and came across the accuracy_score \n",
    "# metric in the sci-kit learn library in Python. This automated way to compute the accuracy is less complex than manually \n",
    "# computing accuracy, so I will employ the accuracy_score() function.\n",
    "\n",
    "# First I must import the sci-kit learn library and directly access the accuracy_score function within the metrics module.\n",
    "\n",
    "from sklearn.metrics import accuracy_score\n",
    "\n",
    "accuracy = accuracy_score(movie_data['sentiment'], movie_data['new_sentiment'])\n",
    "\n",
    "print('Accuracy:', accuracy)"
   ]
  },
  {
   "cell_type": "code",
   "execution_count": null,
   "id": "6c773aeb",
   "metadata": {},
   "outputs": [],
   "source": [
    "# Looking at the accuracy of the sentiment analysis in comparison to the random guessing that the dataset had already done \n",
    "# with the sentiment observations prior to the sentiment analysis, the TextBlob analysis does a much better job at \n",
    "# classifying the reviews, as there is a large disparity between the number of positive and negative reviews. The random \n",
    "# guessing had the reviews split 50/50, yet the sentiment analysis shows that almost 80 percent of the reviews were \n",
    "# positive and only about 20 percent were classified as negative."
   ]
  },
  {
   "cell_type": "markdown",
   "id": "05f39055",
   "metadata": {},
   "source": [
    "## Part 2: Prepping Text for a Custom Model"
   ]
  },
  {
   "cell_type": "markdown",
   "id": "b42de1d9",
   "metadata": {},
   "source": [
    "### 1. Convert all text to lowercase letters."
   ]
  },
  {
   "cell_type": "code",
   "execution_count": 49,
   "id": "e37a9eb4",
   "metadata": {},
   "outputs": [
    {
     "data": {
      "text/html": [
       "<div>\n",
       "<style scoped>\n",
       "    .dataframe tbody tr th:only-of-type {\n",
       "        vertical-align: middle;\n",
       "    }\n",
       "\n",
       "    .dataframe tbody tr th {\n",
       "        vertical-align: top;\n",
       "    }\n",
       "\n",
       "    .dataframe thead th {\n",
       "        text-align: right;\n",
       "    }\n",
       "</style>\n",
       "<table border=\"1\" class=\"dataframe\">\n",
       "  <thead>\n",
       "    <tr style=\"text-align: right;\">\n",
       "      <th></th>\n",
       "      <th>id</th>\n",
       "      <th>sentiment</th>\n",
       "      <th>review</th>\n",
       "      <th>new_sentiment</th>\n",
       "    </tr>\n",
       "  </thead>\n",
       "  <tbody>\n",
       "    <tr>\n",
       "      <th>0</th>\n",
       "      <td>5814_8</td>\n",
       "      <td>1</td>\n",
       "      <td>with all this stuff going down at the moment w...</td>\n",
       "      <td>Positive</td>\n",
       "    </tr>\n",
       "    <tr>\n",
       "      <th>1</th>\n",
       "      <td>2381_9</td>\n",
       "      <td>1</td>\n",
       "      <td>the classic war of the worlds by timothy hines...</td>\n",
       "      <td>Positive</td>\n",
       "    </tr>\n",
       "    <tr>\n",
       "      <th>2</th>\n",
       "      <td>7759_3</td>\n",
       "      <td>0</td>\n",
       "      <td>the film starts with a manager nicholas bell g...</td>\n",
       "      <td>Negative</td>\n",
       "    </tr>\n",
       "    <tr>\n",
       "      <th>3</th>\n",
       "      <td>3630_4</td>\n",
       "      <td>0</td>\n",
       "      <td>it must be assumed that those who praised this...</td>\n",
       "      <td>Positive</td>\n",
       "    </tr>\n",
       "    <tr>\n",
       "      <th>4</th>\n",
       "      <td>9495_8</td>\n",
       "      <td>1</td>\n",
       "      <td>superbly trashy and wondrously unpretentious 8...</td>\n",
       "      <td>Negative</td>\n",
       "    </tr>\n",
       "  </tbody>\n",
       "</table>\n",
       "</div>"
      ],
      "text/plain": [
       "       id  sentiment                                             review  \\\n",
       "0  5814_8          1  with all this stuff going down at the moment w...   \n",
       "1  2381_9          1  the classic war of the worlds by timothy hines...   \n",
       "2  7759_3          0  the film starts with a manager nicholas bell g...   \n",
       "3  3630_4          0  it must be assumed that those who praised this...   \n",
       "4  9495_8          1  superbly trashy and wondrously unpretentious 8...   \n",
       "\n",
       "  new_sentiment  \n",
       "0      Positive  \n",
       "1      Positive  \n",
       "2      Negative  \n",
       "3      Positive  \n",
       "4      Negative  "
      ]
     },
     "execution_count": 49,
     "metadata": {},
     "output_type": "execute_result"
    }
   ],
   "source": [
    "# The string formatting str.lower() function has the ability to make all text lowercase, so I will be using this against \n",
    "# the review variable.\n",
    "\n",
    "movie_data['review'] = movie_data['review'].str.lower()\n",
    "\n",
    "# The head() function is meant to show the changes made to the data frame.\n",
    "\n",
    "movie_data.head()"
   ]
  },
  {
   "cell_type": "markdown",
   "id": "78c63dee",
   "metadata": {},
   "source": [
    "### 2. Remove punctuation and special characters from the text."
   ]
  },
  {
   "cell_type": "code",
   "execution_count": 50,
   "id": "25989b6b",
   "metadata": {},
   "outputs": [
    {
     "data": {
      "text/html": [
       "<div>\n",
       "<style scoped>\n",
       "    .dataframe tbody tr th:only-of-type {\n",
       "        vertical-align: middle;\n",
       "    }\n",
       "\n",
       "    .dataframe tbody tr th {\n",
       "        vertical-align: top;\n",
       "    }\n",
       "\n",
       "    .dataframe thead th {\n",
       "        text-align: right;\n",
       "    }\n",
       "</style>\n",
       "<table border=\"1\" class=\"dataframe\">\n",
       "  <thead>\n",
       "    <tr style=\"text-align: right;\">\n",
       "      <th></th>\n",
       "      <th>id</th>\n",
       "      <th>sentiment</th>\n",
       "      <th>review</th>\n",
       "      <th>new_sentiment</th>\n",
       "    </tr>\n",
       "  </thead>\n",
       "  <tbody>\n",
       "    <tr>\n",
       "      <th>0</th>\n",
       "      <td>5814_8</td>\n",
       "      <td>1</td>\n",
       "      <td>with all this stuff going down at the moment w...</td>\n",
       "      <td>Positive</td>\n",
       "    </tr>\n",
       "    <tr>\n",
       "      <th>1</th>\n",
       "      <td>2381_9</td>\n",
       "      <td>1</td>\n",
       "      <td>the classic war of the worlds by timothy hines...</td>\n",
       "      <td>Positive</td>\n",
       "    </tr>\n",
       "    <tr>\n",
       "      <th>2</th>\n",
       "      <td>7759_3</td>\n",
       "      <td>0</td>\n",
       "      <td>the film starts with a manager nicholas bell g...</td>\n",
       "      <td>Negative</td>\n",
       "    </tr>\n",
       "    <tr>\n",
       "      <th>3</th>\n",
       "      <td>3630_4</td>\n",
       "      <td>0</td>\n",
       "      <td>it must be assumed that those who praised this...</td>\n",
       "      <td>Positive</td>\n",
       "    </tr>\n",
       "    <tr>\n",
       "      <th>4</th>\n",
       "      <td>9495_8</td>\n",
       "      <td>1</td>\n",
       "      <td>superbly trashy and wondrously unpretentious 8...</td>\n",
       "      <td>Negative</td>\n",
       "    </tr>\n",
       "  </tbody>\n",
       "</table>\n",
       "</div>"
      ],
      "text/plain": [
       "       id  sentiment                                             review  \\\n",
       "0  5814_8          1  with all this stuff going down at the moment w...   \n",
       "1  2381_9          1  the classic war of the worlds by timothy hines...   \n",
       "2  7759_3          0  the film starts with a manager nicholas bell g...   \n",
       "3  3630_4          0  it must be assumed that those who praised this...   \n",
       "4  9495_8          1  superbly trashy and wondrously unpretentious 8...   \n",
       "\n",
       "  new_sentiment  \n",
       "0      Positive  \n",
       "1      Positive  \n",
       "2      Negative  \n",
       "3      Positive  \n",
       "4      Negative  "
      ]
     },
     "execution_count": 50,
     "metadata": {},
     "output_type": "execute_result"
    }
   ],
   "source": [
    "# This step involves applying a lambda function that checks each review (converted into a string value since it has not \n",
    "# been done yet) for alphanumeric characters (with the isalnum() function) and space characters \n",
    "# (using the isspace() function) and keeps them (removing the remaining punctuation and special characters by default). The \n",
    "# lambda function finally joins each review back together at the whitespaces left by the exclusion of the unwanted \n",
    "# characters\n",
    "\n",
    "movie_data['review'] = movie_data['review'].apply(\n",
    "    lambda review: ''.join(str(character) for character in review if character.isalnum() or character.isspace()))\n",
    "\n",
    "# The head() function is meant to show the changes made to the data frame.\n",
    "\n",
    "movie_data.head()"
   ]
  },
  {
   "cell_type": "markdown",
   "id": "75cefbcb",
   "metadata": {},
   "source": [
    "### 3. Remove stop words."
   ]
  },
  {
   "cell_type": "code",
   "execution_count": 54,
   "id": "d43c87f1",
   "metadata": {},
   "outputs": [
    {
     "data": {
      "text/html": [
       "<div>\n",
       "<style scoped>\n",
       "    .dataframe tbody tr th:only-of-type {\n",
       "        vertical-align: middle;\n",
       "    }\n",
       "\n",
       "    .dataframe tbody tr th {\n",
       "        vertical-align: top;\n",
       "    }\n",
       "\n",
       "    .dataframe thead th {\n",
       "        text-align: right;\n",
       "    }\n",
       "</style>\n",
       "<table border=\"1\" class=\"dataframe\">\n",
       "  <thead>\n",
       "    <tr style=\"text-align: right;\">\n",
       "      <th></th>\n",
       "      <th>id</th>\n",
       "      <th>sentiment</th>\n",
       "      <th>review</th>\n",
       "      <th>new_sentiment</th>\n",
       "    </tr>\n",
       "  </thead>\n",
       "  <tbody>\n",
       "    <tr>\n",
       "      <th>0</th>\n",
       "      <td>5814_8</td>\n",
       "      <td>1</td>\n",
       "      <td>stuff going moment mj ive started listening mu...</td>\n",
       "      <td>Positive</td>\n",
       "    </tr>\n",
       "    <tr>\n",
       "      <th>1</th>\n",
       "      <td>2381_9</td>\n",
       "      <td>1</td>\n",
       "      <td>classic war worlds timothy hines entertaining ...</td>\n",
       "      <td>Positive</td>\n",
       "    </tr>\n",
       "    <tr>\n",
       "      <th>2</th>\n",
       "      <td>7759_3</td>\n",
       "      <td>0</td>\n",
       "      <td>film starts manager nicholas bell giving welco...</td>\n",
       "      <td>Negative</td>\n",
       "    </tr>\n",
       "    <tr>\n",
       "      <th>3</th>\n",
       "      <td>3630_4</td>\n",
       "      <td>0</td>\n",
       "      <td>must assumed praised film greatest filmed oper...</td>\n",
       "      <td>Positive</td>\n",
       "    </tr>\n",
       "    <tr>\n",
       "      <th>4</th>\n",
       "      <td>9495_8</td>\n",
       "      <td>1</td>\n",
       "      <td>superbly trashy wondrously unpretentious 80s e...</td>\n",
       "      <td>Negative</td>\n",
       "    </tr>\n",
       "  </tbody>\n",
       "</table>\n",
       "</div>"
      ],
      "text/plain": [
       "       id  sentiment                                             review  \\\n",
       "0  5814_8          1  stuff going moment mj ive started listening mu...   \n",
       "1  2381_9          1  classic war worlds timothy hines entertaining ...   \n",
       "2  7759_3          0  film starts manager nicholas bell giving welco...   \n",
       "3  3630_4          0  must assumed praised film greatest filmed oper...   \n",
       "4  9495_8          1  superbly trashy wondrously unpretentious 80s e...   \n",
       "\n",
       "  new_sentiment  \n",
       "0      Positive  \n",
       "1      Positive  \n",
       "2      Negative  \n",
       "3      Positive  \n",
       "4      Negative  "
      ]
     },
     "execution_count": 54,
     "metadata": {},
     "output_type": "execute_result"
    }
   ],
   "source": [
    "# To remove stopwords, I will need to import the NLTK library to access the stopwords function.\n",
    "\n",
    "import nltk\n",
    "from nltk.corpus import stopwords\n",
    "\n",
    "# To have access to the stopwords in the English language, I used the words() function in stopwords and specified english \n",
    "# as the language whose stopwords I wish to use and stored those words into a set variable to call on in my function to \n",
    "# remove these stopwords from the review variable. \n",
    "\n",
    "stop_words = set(stopwords.words('english'))\n",
    "\n",
    "# The delete_stopwords() function I made is similar to the lambda function that removed the special characters and \n",
    "# punctuation, except that I encased the code in a recallable function. The function works to split the review into \n",
    "# individual words, analyze them to identify the stopwords and keep the words that are not stopwords, then join the words \n",
    "# to keep with the join() function where the stopwords were deleted. The joined review is returned at the end. \n",
    "\n",
    "def delete_stopwords(review):\n",
    "    kept_words = [word for word in review.split() if word not in stop_words]\n",
    "    return ' '.join(kept_words)\n",
    "\n",
    "# The above function is applied to each review in the review variable with the apply() function.\n",
    "\n",
    "movie_data['review'] = movie_data['review'].apply(delete_stopwords)\n",
    "\n",
    "# The head() function is meant to show the changes made to the data frame.\n",
    "\n",
    "movie_data.head()"
   ]
  },
  {
   "cell_type": "markdown",
   "id": "c32d75fa",
   "metadata": {},
   "source": [
    "### 4. Apply NLTK’s PorterStemmer."
   ]
  },
  {
   "cell_type": "code",
   "execution_count": 55,
   "id": "6caff84f",
   "metadata": {},
   "outputs": [
    {
     "data": {
      "text/html": [
       "<div>\n",
       "<style scoped>\n",
       "    .dataframe tbody tr th:only-of-type {\n",
       "        vertical-align: middle;\n",
       "    }\n",
       "\n",
       "    .dataframe tbody tr th {\n",
       "        vertical-align: top;\n",
       "    }\n",
       "\n",
       "    .dataframe thead th {\n",
       "        text-align: right;\n",
       "    }\n",
       "</style>\n",
       "<table border=\"1\" class=\"dataframe\">\n",
       "  <thead>\n",
       "    <tr style=\"text-align: right;\">\n",
       "      <th></th>\n",
       "      <th>id</th>\n",
       "      <th>sentiment</th>\n",
       "      <th>review</th>\n",
       "      <th>new_sentiment</th>\n",
       "    </tr>\n",
       "  </thead>\n",
       "  <tbody>\n",
       "    <tr>\n",
       "      <th>0</th>\n",
       "      <td>5814_8</td>\n",
       "      <td>1</td>\n",
       "      <td>stuff go moment mj ive start listen music watc...</td>\n",
       "      <td>Positive</td>\n",
       "    </tr>\n",
       "    <tr>\n",
       "      <th>1</th>\n",
       "      <td>2381_9</td>\n",
       "      <td>1</td>\n",
       "      <td>classic war world timothi hine entertain film ...</td>\n",
       "      <td>Positive</td>\n",
       "    </tr>\n",
       "    <tr>\n",
       "      <th>2</th>\n",
       "      <td>7759_3</td>\n",
       "      <td>0</td>\n",
       "      <td>film start manag nichola bell give welcom inve...</td>\n",
       "      <td>Negative</td>\n",
       "    </tr>\n",
       "    <tr>\n",
       "      <th>3</th>\n",
       "      <td>3630_4</td>\n",
       "      <td>0</td>\n",
       "      <td>must assum prais film greatest film opera ever...</td>\n",
       "      <td>Positive</td>\n",
       "    </tr>\n",
       "    <tr>\n",
       "      <th>4</th>\n",
       "      <td>9495_8</td>\n",
       "      <td>1</td>\n",
       "      <td>superbl trashi wondrous unpretenti 80 exploit ...</td>\n",
       "      <td>Negative</td>\n",
       "    </tr>\n",
       "  </tbody>\n",
       "</table>\n",
       "</div>"
      ],
      "text/plain": [
       "       id  sentiment                                             review  \\\n",
       "0  5814_8          1  stuff go moment mj ive start listen music watc...   \n",
       "1  2381_9          1  classic war world timothi hine entertain film ...   \n",
       "2  7759_3          0  film start manag nichola bell give welcom inve...   \n",
       "3  3630_4          0  must assum prais film greatest film opera ever...   \n",
       "4  9495_8          1  superbl trashi wondrous unpretenti 80 exploit ...   \n",
       "\n",
       "  new_sentiment  \n",
       "0      Positive  \n",
       "1      Positive  \n",
       "2      Negative  \n",
       "3      Positive  \n",
       "4      Negative  "
      ]
     },
     "execution_count": 55,
     "metadata": {},
     "output_type": "execute_result"
    }
   ],
   "source": [
    "# To gain access to PorterStemmer, I must import it from the NLTK library.\n",
    "\n",
    "from nltk.stem import PorterStemmer\n",
    "\n",
    "# The function generated here follows the same logic as the previous function, with the PorterStemmer() function iterating \n",
    "# over every word in the review with the split() function, then the stemmed words are joined back together at the place \n",
    "# where they were stemmed.\n",
    "\n",
    "def Porter_Stemming(review):\n",
    "    stemmed_words = [PorterStemmer().stem(word) for word in review.split()]\n",
    "    return ' '.join(stemmed_words)\n",
    "\n",
    "# The above function is applied to each review in the review variable with the apply() function.\n",
    "\n",
    "movie_data['review'] = movie_data['review'].apply(Porter_Stemming)\n",
    "\n",
    "# The head() function is meant to show the changes made to the data frame.\n",
    "\n",
    "movie_data.head()"
   ]
  },
  {
   "cell_type": "markdown",
   "id": "a80b2d07",
   "metadata": {},
   "source": [
    "### 5. Create a bag-of-words matrix from your stemmed text (output from (4)), where each row is a word-count vector for a single movie review (see sections 5.3 & 6.8 in the Machine Learning with Python Cookbook). Display the dimensions of your bag-of-words matrix. The number of rows in this matrix should be the same as the number of rows in your original data frame."
   ]
  },
  {
   "cell_type": "code",
   "execution_count": 59,
   "id": "f7cf457e",
   "metadata": {},
   "outputs": [
    {
     "name": "stdout",
     "output_type": "stream",
     "text": [
      "The dimensions of the movie review bag-of-words matrix are (25000, 92399)\n"
     ]
    }
   ],
   "source": [
    "# To manage the task of creating a bag-of-words matrix, I need to access the CountVectorizer function in Sci-kitlearn.\n",
    "\n",
    "from sklearn.feature_extraction.text import CountVectorizer\n",
    "\n",
    "# To create the bag-of-words matrix, I simply used the CountVectorizer's fit_transform function on the review variable.\n",
    "\n",
    "bow_matrix = CountVectorizer().fit_transform(movie_data['review'])\n",
    "\n",
    "# The shape() function is used to directly call the dimensions of the matrix that has been created.\n",
    "\n",
    "print(\"The dimensions of the movie review bag-of-words matrix are\", bow_matrix.shape)"
   ]
  },
  {
   "cell_type": "markdown",
   "id": "30f2b140",
   "metadata": {},
   "source": [
    "### 6. Create a term frequency-inverse document frequency (tf-idf) matrix from your stemmed text, for your movie reviews (see section 6.9 in the Machine Learning with Python Cookbook). Display the dimensions of your tf-idf matrix. These dimensions should be the same as your bag-of-words matrix."
   ]
  },
  {
   "cell_type": "code",
   "execution_count": 60,
   "id": "1a06f154",
   "metadata": {},
   "outputs": [
    {
     "name": "stdout",
     "output_type": "stream",
     "text": [
      "The dimensions of the movie review TF-IDF matrix are (25000, 92399)\n"
     ]
    }
   ],
   "source": [
    "# To craft a term frequency-inverse document frequency matrix, Sci-kitlearn also has a TfidfVectorizer function that needs \n",
    "# to be imported and utilized.\n",
    "\n",
    "from sklearn.feature_extraction.text import TfidfVectorizer\n",
    "\n",
    "# The TF-IDF matrix can be made by calling the TfidfVectorizer's fit_transform function and subjecting the review variable \n",
    "# to it.\n",
    "\n",
    "tfidf_matrix = TfidfVectorizer().fit_transform(movie_data['review'])\n",
    "\n",
    "# The shape() function is used to directly call the dimensions of the matrix that has been created.\n",
    "\n",
    "print(\"The dimensions of the movie review TF-IDF matrix are\", tfidf_matrix.shape)"
   ]
  }
 ],
 "metadata": {
  "kernelspec": {
   "display_name": "Python 3 (ipykernel)",
   "language": "python",
   "name": "python3"
  },
  "language_info": {
   "codemirror_mode": {
    "name": "ipython",
    "version": 3
   },
   "file_extension": ".py",
   "mimetype": "text/x-python",
   "name": "python",
   "nbconvert_exporter": "python",
   "pygments_lexer": "ipython3",
   "version": "3.11.5"
  }
 },
 "nbformat": 4,
 "nbformat_minor": 5
}
